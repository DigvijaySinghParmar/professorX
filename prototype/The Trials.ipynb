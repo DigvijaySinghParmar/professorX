{
 "cells": [
  {
   "cell_type": "code",
   "execution_count": 36,
   "metadata": {},
   "outputs": [],
   "source": [
    "import numpy as np\n",
    "import pandas as pd\n",
    "from scipy import signal\n",
    "from scipy.integrate import simps\n",
    "import pywt\n",
    "from scipy.fft import fft\n",
    "import matplotlib.pyplot as plt\n",
    "%matplotlib inline"
   ]
  },
  {
   "cell_type": "code",
   "execution_count": 10,
   "metadata": {},
   "outputs": [],
   "source": [
    "class Feature():\n",
    "\n",
    "    def __init__(self, channels, readings, filename = \"data.csv\"):\n",
    "        # name of file where data is being stored along with extension\n",
    "        self.filename = filename\n",
    "        self.channels = channels\n",
    "        self.readings = readings\n",
    "        self.delta_values = []\n",
    "        self.theta_values = []\n",
    "        self.alpha_values = []\n",
    "        self.beta_values = []\n",
    "        arr = range(self.readings)\n",
    "        self.feature = pd.DataFrame(arr, columns=['Redundant'])\n",
    "        self.feature.to_csv('feature.csv')\n",
    "\n",
    "    # function plots welchs periodogram and calculates area under the curve for respective frequency band using composite simpsons rules\n",
    "    def relative_psd(self):\n",
    "        fs = 128\n",
    "        t = 3\n",
    "        # t is the duration of the signal, this value must be same is record.py and stimuli/cues.py as well\n",
    "\n",
    "        # N = fs * t\n",
    "\n",
    "        win_length = 4*fs\n",
    "        # window length is normally 2/Lowest freq of interest which is 0.5 in our case thus the window length is 4 seconds\n",
    "\n",
    "        data = pd.read_csv(self.filename)\n",
    "        data.to_csv('data1.csv', header = False)\n",
    "        data = pd.read_csv(\"data1.csv\")\n",
    "        # getting rid of garbage headers\n",
    "\n",
    "        arr = range(self.readings)\n",
    "        feature = pd.DataFrame(arr, columns=['Redundant'])\n",
    "        feature.to_csv('feature.csv')\n",
    "        \n",
    "\n",
    "        for i in self.channels:\n",
    "\n",
    "            indices = np.linspace(0, data[i].size, self.readings, dtype=int)\n",
    "            k=0\n",
    "            for j in range(self.readings) :\n",
    "                freqs, psd = signal.welch(data[i].iloc[indices[k] : indices[k+1]], fs,)\n",
    "                # nperseg=win_length\n",
    "\n",
    "                \"\"\"\n",
    "                plt.plot(freqs, psd, color='k', lw=2)\n",
    "                plt.xlabel('Frequency')\n",
    "                plt.ylabel('Power spectral density')\n",
    "                plt.title(\"Welch's periodogram\")\n",
    "                \"\"\"\n",
    "\n",
    "                # delta band \n",
    "                low = 0.5\n",
    "                high = 4\n",
    "                delta = np.logical_and(freqs >= low, freqs <= high)\n",
    "                freq_res = freqs[1] - freqs[0] \n",
    "                delta_power = simps(psd[delta], dx=freq_res)\n",
    "\n",
    "                total_power = simps(psd, dx=freq_res)\n",
    "\n",
    "                delta_rel_power = delta_power / total_power\n",
    "                self.delta_values.append(delta_rel_power)\n",
    "\n",
    "                # print('relative delta power = %.3f '% delta_rel_power)\n",
    "\n",
    "                # theta band \n",
    "                low = 4\n",
    "                high = 8\n",
    "                theta = np.logical_and(freqs >= low, freqs <= high)\n",
    "                freq_res = freqs[1] - freqs[0] \n",
    "                theta_power = simps(psd[theta], dx=freq_res)\n",
    "                theta_rel_power = theta_power / total_power\n",
    "                # print('relative theta power = %.3f '% theta_rel_power)\n",
    "                self.theta_values.append(theta_rel_power)\n",
    "\n",
    "                # alpha band \n",
    "                low = 8\n",
    "                high = 12\n",
    "                alpha = np.logical_and(freqs >= low, freqs <= high)\n",
    "                freq_res = freqs[1] - freqs[0] \n",
    "                alpha_power = simps(psd[alpha], dx=freq_res)\n",
    "                alpha_rel_power = alpha_power / total_power\n",
    "                # print('relative alpha power = %.3f '% alpha_rel_power)\n",
    "                self.alpha_values.append(alpha_rel_power)\n",
    "\n",
    "                # beta band \n",
    "                low = 12\n",
    "                high = 30\n",
    "                beta = np.logical_and(freqs >= low, freqs <= high)\n",
    "                freq_res = freqs[1] - freqs[0] \n",
    "                beta_power = simps(psd[beta], dx=freq_res)\n",
    "                beta_rel_power = beta_power / total_power\n",
    "                # print('relative beta power = %.3f '% beta_rel_power)\n",
    "                self.beta_values.append(beta_rel_power)\n",
    "                k=k+1\n",
    "\n",
    "            self.save_to_file(i, self.feature)\n",
    "            self.delta_values = []\n",
    "            self.theta_values = []\n",
    "            self.alpha_values = []\n",
    "            self.beta_values = []\n",
    "\n",
    "        \n",
    "\n",
    "        self.feature = self.feature.drop('Redundant', axis=1)\n",
    "        self.feature.to_csv('feature.csv')\n",
    "\n",
    "    def wavelet(self, channel):\n",
    "        data = pd.read_csv(self.filename)\n",
    "        sig = data[channel]\n",
    "        dec=pywt.wavedec(sig, wavelet = 'db4', level=4)\n",
    "\n",
    "    def save_to_file(self, channel, feature):\n",
    "        feature[channel+'delta'] = self.delta_values\n",
    "        feature[channel+'theta'] = self.theta_values\n",
    "        feature[channel+'alpha'] = self.alpha_values\n",
    "        feature[channel+'beta'] = self.beta_values"
   ]
  },
  {
   "cell_type": "code",
   "execution_count": 8,
   "metadata": {},
   "outputs": [],
   "source": [
    "channels = ['EEG.AF3','EEG.F7','EEG.F3','EEG.FC5','EEG.T7','EEG.P7','EEG.O1','EEG.O2','EEG.P8','EEG.T8','EEG.FC6','EEG.F4','EEG.F8','EEG.AF4']"
   ]
  },
  {
   "cell_type": "code",
   "execution_count": 11,
   "metadata": {},
   "outputs": [
    {
     "ename": "TypeError",
     "evalue": "__init__() missing 1 required positional argument: 'readings'",
     "output_type": "error",
     "traceback": [
      "\u001b[1;31m---------------------------------------------------------------------------\u001b[0m",
      "\u001b[1;31mTypeError\u001b[0m                                 Traceback (most recent call last)",
      "\u001b[1;32m<ipython-input-11-476790cea569>\u001b[0m in \u001b[0;36m<module>\u001b[1;34m\u001b[0m\n\u001b[1;32m----> 1\u001b[1;33m \u001b[0mobj\u001b[0m \u001b[1;33m=\u001b[0m \u001b[0mFeature\u001b[0m\u001b[1;33m(\u001b[0m\u001b[0mchannels\u001b[0m\u001b[1;33m)\u001b[0m\u001b[1;33m\u001b[0m\u001b[1;33m\u001b[0m\u001b[0m\n\u001b[0m",
      "\u001b[1;31mTypeError\u001b[0m: __init__() missing 1 required positional argument: 'readings'"
     ]
    }
   ],
   "source": [
    "obj = Feature(channels)"
   ]
  },
  {
   "cell_type": "code",
   "execution_count": 12,
   "metadata": {},
   "outputs": [
    {
     "ename": "NameError",
     "evalue": "name 'obj' is not defined",
     "output_type": "error",
     "traceback": [
      "\u001b[1;31m---------------------------------------------------------------------------\u001b[0m",
      "\u001b[1;31mNameError\u001b[0m                                 Traceback (most recent call last)",
      "\u001b[1;32m<ipython-input-12-60af59ee159a>\u001b[0m in \u001b[0;36m<module>\u001b[1;34m\u001b[0m\n\u001b[1;32m----> 1\u001b[1;33m \u001b[0mobj\u001b[0m\u001b[1;33m.\u001b[0m\u001b[0mrelative_psd\u001b[0m\u001b[1;33m(\u001b[0m\u001b[1;33m)\u001b[0m\u001b[1;33m\u001b[0m\u001b[1;33m\u001b[0m\u001b[0m\n\u001b[0m",
      "\u001b[1;31mNameError\u001b[0m: name 'obj' is not defined"
     ]
    }
   ],
   "source": [
    "obj.relative_psd()"
   ]
  },
  {
   "cell_type": "code",
   "execution_count": 13,
   "metadata": {},
   "outputs": [],
   "source": [
    "data = pd.read_csv('data.csv')\n",
    "data.to_csv('data1.csv', header = False)\n",
    "data = pd.read_csv(\"data1.csv\")"
   ]
  },
  {
   "cell_type": "code",
   "execution_count": 14,
   "metadata": {},
   "outputs": [
    {
     "data": {
      "text/plain": [
       "1    4223.461426\n",
       "2    4228.846191\n",
       "3    4220.384766\n",
       "Name: EEG.AF3, dtype: float64"
      ]
     },
     "execution_count": 14,
     "metadata": {},
     "output_type": "execute_result"
    }
   ],
   "source": [
    "data['EEG.AF3'].iloc[1:4]"
   ]
  },
  {
   "cell_type": "code",
   "execution_count": 15,
   "metadata": {},
   "outputs": [],
   "source": [
    "indices = np.linspace(0, data['EEG.AF3'].size, 5,dtype=int)"
   ]
  },
  {
   "cell_type": "code",
   "execution_count": 16,
   "metadata": {},
   "outputs": [
    {
     "data": {
      "text/plain": [
       "162"
      ]
     },
     "execution_count": 16,
     "metadata": {},
     "output_type": "execute_result"
    }
   ],
   "source": [
    "indices[1]"
   ]
  },
  {
   "cell_type": "code",
   "execution_count": 17,
   "metadata": {},
   "outputs": [
    {
     "data": {
      "text/plain": [
       "0      4218.717773\n",
       "1      4223.461426\n",
       "2      4228.846191\n",
       "3      4220.384766\n",
       "4      4205.128418\n",
       "          ...     \n",
       "157    4180.512695\n",
       "158    4178.717773\n",
       "159    4187.307617\n",
       "160    4189.743652\n",
       "161    4187.051270\n",
       "Name: EEG.AF3, Length: 162, dtype: float64"
      ]
     },
     "execution_count": 17,
     "metadata": {},
     "output_type": "execute_result"
    }
   ],
   "source": [
    "data['EEG.AF3'].iloc[indices[0] : indices[1]]"
   ]
  },
  {
   "cell_type": "code",
   "execution_count": 28,
   "metadata": {},
   "outputs": [],
   "source": [
    " df = pd.read_csv(r\"sequence.csv\")\n"
   ]
  },
  {
   "cell_type": "code",
   "execution_count": 31,
   "metadata": {},
   "outputs": [],
   "source": [
    "markers = df[\"Sequence\"].to_numpy()\n"
   ]
  },
  {
   "cell_type": "code",
   "execution_count": 32,
   "metadata": {},
   "outputs": [],
   "source": [
    "name = 'EEG.AF3'"
   ]
  },
  {
   "cell_type": "code",
   "execution_count": 35,
   "metadata": {},
   "outputs": [
    {
     "ename": "NameError",
     "evalue": "name 'df1' is not defined",
     "output_type": "error",
     "traceback": [
      "\u001b[1;31m---------------------------------------------------------------------------\u001b[0m",
      "\u001b[1;31mNameError\u001b[0m                                 Traceback (most recent call last)",
      "\u001b[1;32m<ipython-input-35-2544c8b25df4>\u001b[0m in \u001b[0;36m<module>\u001b[1;34m\u001b[0m\n\u001b[1;32m----> 1\u001b[1;33m df1.columns = pd.MultiIndex.from_tuples([(name, 'delta'), (name, 'theta'),\n\u001b[0m\u001b[0;32m      2\u001b[0m                                         (name, 'alpha'), (name, 'beta')])\n",
      "\u001b[1;31mNameError\u001b[0m: name 'df1' is not defined"
     ]
    }
   ],
   "source": []
  },
  {
   "cell_type": "code",
   "execution_count": 36,
   "metadata": {},
   "outputs": [],
   "source": [
    "arr = range(5)\n",
    "df = pd.DataFrame(arr, columns=['Redundant'])\n",
    "df.to_csv('feature.csv')"
   ]
  },
  {
   "cell_type": "code",
   "execution_count": 1,
   "metadata": {},
   "outputs": [
    {
     "ename": "SyntaxError",
     "evalue": "invalid syntax (<ipython-input-1-bb1f4eb13d59>, line 1)",
     "output_type": "error",
     "traceback": [
      "\u001b[1;36m  File \u001b[1;32m\"<ipython-input-1-bb1f4eb13d59>\"\u001b[1;36m, line \u001b[1;32m1\u001b[0m\n\u001b[1;33m    df.drop[]\u001b[0m\n\u001b[1;37m            ^\u001b[0m\n\u001b[1;31mSyntaxError\u001b[0m\u001b[1;31m:\u001b[0m invalid syntax\n"
     ]
    }
   ],
   "source": [
    "df.drop[]"
   ]
  },
  {
   "cell_type": "code",
   "execution_count": 6,
   "metadata": {},
   "outputs": [
    {
     "ename": "NameError",
     "evalue": "name 'self' is not defined",
     "output_type": "error",
     "traceback": [
      "\u001b[1;31m---------------------------------------------------------------------------\u001b[0m",
      "\u001b[1;31mNameError\u001b[0m                                 Traceback (most recent call last)",
      "\u001b[1;32m<ipython-input-6-03812d039efe>\u001b[0m in \u001b[0;36m<module>\u001b[1;34m\u001b[0m\n\u001b[0;32m     18\u001b[0m \u001b[1;33m\u001b[0m\u001b[0m\n\u001b[0;32m     19\u001b[0m \u001b[1;33m\u001b[0m\u001b[0m\n\u001b[1;32m---> 20\u001b[1;33m \u001b[1;32mfor\u001b[0m \u001b[0mi\u001b[0m \u001b[1;32min\u001b[0m \u001b[0mself\u001b[0m\u001b[1;33m.\u001b[0m\u001b[0mchannels\u001b[0m\u001b[1;33m:\u001b[0m\u001b[1;33m\u001b[0m\u001b[1;33m\u001b[0m\u001b[0m\n\u001b[0m\u001b[0;32m     21\u001b[0m \u001b[1;33m\u001b[0m\u001b[0m\n\u001b[0;32m     22\u001b[0m     \u001b[0mindices\u001b[0m \u001b[1;33m=\u001b[0m \u001b[0mnp\u001b[0m\u001b[1;33m.\u001b[0m\u001b[0mlinspace\u001b[0m\u001b[1;33m(\u001b[0m\u001b[1;36m0\u001b[0m\u001b[1;33m,\u001b[0m \u001b[0mdata\u001b[0m\u001b[1;33m[\u001b[0m\u001b[0mi\u001b[0m\u001b[1;33m]\u001b[0m\u001b[1;33m.\u001b[0m\u001b[0msize\u001b[0m\u001b[1;33m,\u001b[0m\u001b[1;36m5\u001b[0m\u001b[1;33m,\u001b[0m \u001b[0mdtype\u001b[0m\u001b[1;33m=\u001b[0m\u001b[0mint\u001b[0m\u001b[1;33m)\u001b[0m\u001b[1;33m\u001b[0m\u001b[1;33m\u001b[0m\u001b[0m\n",
      "\u001b[1;31mNameError\u001b[0m: name 'self' is not defined"
     ]
    }
   ],
   "source": [
    "        fs = 128\n",
    "        t = 3\n",
    "        # t is the duration of the signal, this value must be same is record.py and stimuli/cues.py as well\n",
    "\n",
    "        # N = fs * t\n",
    "\n",
    "        win_length = 4*fs\n",
    "        # window length is normally 2/Lowest freq of interest which is 0.5 in our case thus the window length is 4 seconds\n",
    "\n",
    "        data = pd.read_csv('data.csv')\n",
    "        data.to_csv('data1.csv', header = False)\n",
    "        data = pd.read_csv(\"data1.csv\")\n",
    "        # getting rid of garbage headers\n",
    "\n",
    "        arr = range(5)\n",
    "        feature = pd.DataFrame(arr, columns=['Redundant'])\n",
    "        feature.to_csv('feature.csv')\n",
    "        \n",
    "\n",
    "        for i in self.channels:\n",
    "\n",
    "            indices = np.linspace(0, data[i].size,5, dtype=int)\n",
    "            k=0\n",
    "            for j in range(self.readings) :\n",
    "                freqs, psd = signal.welch(data[i].iloc[indices[k] : indices[k+1]], fs,)\n",
    "                # nperseg=win_length\n",
    "\n",
    "                \"\"\"\n",
    "                plt.plot(freqs, psd, color='k', lw=2)\n",
    "                plt.xlabel('Frequency')\n",
    "                plt.ylabel('Power spectral density')\n",
    "                plt.title(\"Welch's periodogram\")\n",
    "                \"\"\"\n",
    "\n",
    "                # delta band \n",
    "                low = 0.5\n",
    "                high = 4\n",
    "                delta = np.logical_and(freqs >= low, freqs <= high)\n",
    "                freq_res = freqs[1] - freqs[0] \n",
    "                delta_power = simps(psd[delta], dx=freq_res)\n",
    "\n",
    "                total_power = simps(psd, dx=freq_res)\n",
    "\n",
    "                delta_rel_power = delta_power / total_power\n",
    "                self.delta_values.append(delta_rel_power)\n",
    "\n",
    "                # print('relative delta power = %.3f '% delta_rel_power)\n",
    "\n",
    "                # theta band \n",
    "                low = 4\n",
    "                high = 8\n",
    "                theta = np.logical_and(freqs >= low, freqs <= high)\n",
    "                freq_res = freqs[1] - freqs[0] \n",
    "                theta_power = simps(psd[theta], dx=freq_res)\n",
    "                theta_rel_power = theta_power / total_power\n",
    "                # print('relative theta power = %.3f '% theta_rel_power)\n",
    "                self.theta_values.append(theta_rel_power)\n",
    "\n",
    "                # alpha band \n",
    "                low = 8\n",
    "                high = 12\n",
    "                alpha = np.logical_and(freqs >= low, freqs <= high)\n",
    "                freq_res = freqs[1] - freqs[0] \n",
    "                alpha_power = simps(psd[alpha], dx=freq_res)\n",
    "                alpha_rel_power = alpha_power / total_power\n",
    "                # print('relative alpha power = %.3f '% alpha_rel_power)\n",
    "                self.alpha_values.append(alpha_rel_power)\n",
    "\n",
    "                # beta band \n",
    "                low = 12\n",
    "                high = 30\n",
    "                beta = np.logical_and(freqs >= low, freqs <= high)\n",
    "                freq_res = freqs[1] - freqs[0] \n",
    "                beta_power = simps(psd[beta], dx=freq_res)\n",
    "                beta_rel_power = beta_power / total_power\n",
    "                # print('relative beta power = %.3f '% beta_rel_power)\n",
    "                self.beta_values.append(beta_rel_power)\n",
    "                k=k+1\n",
    "\n",
    "            \n",
    "            delta_values = []\n",
    "            theta_values = []\n",
    "            alpha_values = []\n",
    "            beta_values = []\n",
    "\n",
    "        \n",
    "\n",
    "        self.feature = self.feature.drop('Redundant', axis=1)\n",
    "        self.feature.to_csv('feature.csv')\n"
   ]
  },
  {
   "cell_type": "code",
   "execution_count": 26,
   "metadata": {},
   "outputs": [],
   "source": [
    "indices = np.linspace(0, data['EEG.AF3'].size, 6, dtype=int)"
   ]
  },
  {
   "cell_type": "code",
   "execution_count": 18,
   "metadata": {},
   "outputs": [
    {
     "data": {
      "text/plain": [
       "0      4218.717773\n",
       "1      4223.461426\n",
       "2      4228.846191\n",
       "3      4220.384766\n",
       "4      4205.128418\n",
       "          ...     \n",
       "644    4179.102539\n",
       "645    4173.461426\n",
       "646    4174.230957\n",
       "647    4177.051270\n",
       "648    4180.769043\n",
       "Name: EEG.AF3, Length: 649, dtype: float64"
      ]
     },
     "execution_count": 18,
     "metadata": {},
     "output_type": "execute_result"
    }
   ],
   "source": [
    "data['EEG.AF3']"
   ]
  },
  {
   "cell_type": "code",
   "execution_count": 30,
   "metadata": {},
   "outputs": [
    {
     "data": {
      "text/plain": [
       "519    4177.436035\n",
       "520    4179.358887\n",
       "521    4184.358887\n",
       "522    4193.205078\n",
       "523    4199.358887\n",
       "          ...     \n",
       "644    4179.102539\n",
       "645    4173.461426\n",
       "646    4174.230957\n",
       "647    4177.051270\n",
       "648    4180.769043\n",
       "Name: EEG.AF3, Length: 130, dtype: float64"
      ]
     },
     "execution_count": 30,
     "metadata": {},
     "output_type": "execute_result"
    }
   ],
   "source": [
    "data['EEG.AF3'].iloc[indices[4] : indices[5]]"
   ]
  },
  {
   "cell_type": "code",
   "execution_count": 25,
   "metadata": {},
   "outputs": [
    {
     "name": "stdout",
     "output_type": "stream",
     "text": [
      "0\n",
      "1\n",
      "2\n",
      "3\n",
      "4\n"
     ]
    }
   ],
   "source": [
    "for i in range(5):\n",
    "    print(i)"
   ]
  },
  {
   "cell_type": "code",
   "execution_count": 6,
   "metadata": {},
   "outputs": [
    {
     "data": {
      "text/plain": [
       "14"
      ]
     },
     "execution_count": 6,
     "metadata": {},
     "output_type": "execute_result"
    }
   ],
   "source": [
    "len(channels)"
   ]
  },
  {
   "cell_type": "code",
   "execution_count": 30,
   "metadata": {},
   "outputs": [],
   "source": [
    "x = data['EEG.AF3']"
   ]
  },
  {
   "cell_type": "code",
   "execution_count": 31,
   "metadata": {},
   "outputs": [],
   "source": [
    "y = np.array(x)"
   ]
  },
  {
   "cell_type": "code",
   "execution_count": 32,
   "metadata": {},
   "outputs": [
    {
     "data": {
      "text/plain": [
       "array([4218.717773, 4223.461426, 4228.846191, 4220.384766, 4205.128418,\n",
       "       4193.717773, 4191.153809, 4193.205078, 4185.641113, 4185.641113,\n",
       "       4204.487305, 4222.307617, 4222.179688, 4213.205078, 4215.897461,\n",
       "       4216.410156, 4210.256348, 4208.717773, 4200.641113, 4191.666504,\n",
       "       4191.794922, 4193.717773, 4190.769043, 4184.487305, 4183.974121,\n",
       "       4191.538574, 4198.077148, 4200.769043, 4205.256348, 4212.692383,\n",
       "       4211.538574, 4197.692383, 4190.769043, 4185.128418, 4173.717773,\n",
       "       4173.589844, 4176.538574, 4179.743652, 4184.102539, 4179.487305,\n",
       "       4184.358887, 4201.410156, 4208.205078, 4200.897461, 4199.487305,\n",
       "       4205.897461, 4197.820313, 4188.589844, 4192.05127 , 4191.025879,\n",
       "       4187.563965, 4188.461426, 4191.282227, 4194.102539, 4195.384766,\n",
       "       4195.512695, 4191.666504, 4188.589844, 4188.461426, 4186.025879,\n",
       "       4192.563965, 4200.128418, 4191.538574, 4190.      , 4192.436035,\n",
       "       4181.153809, 4181.282227, 4193.974121, 4195.512695, 4187.05127 ,\n",
       "       4182.820313, 4182.436035, 4178.846191, 4186.282227, 4197.563965,\n",
       "       4192.692383, 4181.922852, 4179.230957, 4192.94873 , 4211.410156,\n",
       "       4213.974121, 4207.563965, 4202.436035, 4200.      , 4198.077148,\n",
       "       4198.333496, 4200.641113, 4193.846191, 4185.384766, 4188.974121,\n",
       "       4201.153809, 4212.179688, 4207.692383, 4196.410156, 4200.384766,\n",
       "       4209.743652, 4212.05127 , 4208.205078, 4200.256348, 4196.025879,\n",
       "       4191.922852, 4193.717773, 4205.641113, 4208.589844, 4209.871582,\n",
       "       4221.153809, 4223.077148, 4205.897461, 4187.436035, 4187.179688,\n",
       "       4187.692383, 4177.436035, 4178.461426, 4191.794922, 4200.769043,\n",
       "       4199.743652, 4194.615234, 4193.077148, 4189.871582, 4189.230957,\n",
       "       4188.589844, 4183.077148, 4186.410156, 4188.077148, 4183.077148,\n",
       "       4184.487305, 4185.384766, 4190.      , 4201.538574, 4209.871582,\n",
       "       4211.025879, 4209.871582, 4207.179688, 4197.94873 , 4190.384766,\n",
       "       4192.307617, 4185.512695, 4174.487305, 4174.230957, 4172.05127 ,\n",
       "       4173.717773, 4181.410156, 4182.307617, 4183.205078, 4187.05127 ,\n",
       "       4185.384766, 4181.794922, 4189.615234, 4196.538574, 4184.615234,\n",
       "       4175.      , 4177.692383, 4185.897461, 4195.512695, 4191.538574,\n",
       "       4185.641113, 4187.179688, 4180.512695, 4178.717773, 4187.307617,\n",
       "       4189.743652, 4187.05127 , 4187.692383, 4185.384766, 4175.897461,\n",
       "       4176.025879, 4189.102539, 4194.230957, 4190.128418, 4180.512695,\n",
       "       4175.384766, 4183.974121, 4184.358887, 4171.794922, 4162.563965,\n",
       "       4163.461426, 4174.743652, 4180.512695, 4180.897461, 4185.641113,\n",
       "       4187.05127 , 4185.384766, 4183.589844, 4181.410156, 4181.153809,\n",
       "       4177.94873 , 4167.94873 , 4158.205078, 4153.589844, 4154.358887,\n",
       "       4161.410156, 4175.      , 4178.846191, 4173.461426, 4183.205078,\n",
       "       4191.153809, 4184.230957, 4178.077148, 4171.282227, 4166.794922,\n",
       "       4166.410156, 4169.230957, 4174.358887, 4168.589844, 4162.94873 ,\n",
       "       4171.666504, 4180.897461, 4177.692383, 4172.307617, 4177.820313,\n",
       "       4182.692383, 4185.897461, 4192.94873 , 4192.820313, 4187.820313,\n",
       "       4193.589844, 4206.410156, 4208.589844, 4192.05127 , 4176.538574,\n",
       "       4175.769043, 4173.333496, 4173.846191, 4175.769043, 4171.025879,\n",
       "       4174.230957, 4177.179688, 4174.871582, 4178.333496, 4189.871582,\n",
       "       4196.410156, 4189.615234, 4189.102539, 4195.641113, 4189.743652,\n",
       "       4178.205078, 4171.410156, 4168.333496, 4169.615234, 4171.666504,\n",
       "       4172.820313, 4172.307617, 4178.974121, 4187.436035, 4177.436035,\n",
       "       4171.025879, 4175.641113, 4172.436035, 4171.025879, 4170.512695,\n",
       "       4170.897461, 4176.666504, 4180.769043, 4185.512695, 4189.230957,\n",
       "       4182.436035, 4166.922852, 4150.256348, 4138.717773, 4139.615234,\n",
       "       4158.589844, 4174.615234, 4173.461426, 4177.820313, 4187.179688,\n",
       "       4187.05127 , 4186.153809, 4185.641113, 4186.025879, 4181.410156,\n",
       "       4172.94873 , 4176.410156, 4181.410156, 4176.922852, 4181.153809,\n",
       "       4196.410156, 4200.769043, 4192.94873 , 4195.384766, 4205.897461,\n",
       "       4202.179688, 4196.666504, 4196.794922, 4191.282227, 4189.615234,\n",
       "       4193.589844, 4205.128418, 4214.230957, 4206.153809, 4197.94873 ,\n",
       "       4191.410156, 4180.512695, 4177.692383, 4181.666504, 4180.512695,\n",
       "       4176.410156, 4182.692383, 4189.871582, 4187.94873 , 4187.563965,\n",
       "       4185.256348, 4180.897461, 4184.871582, 4182.05127 , 4177.05127 ,\n",
       "       4175.384766, 4168.717773, 4168.077148, 4171.922852, 4175.256348,\n",
       "       4175.897461, 4170.384766, 4171.538574, 4178.077148, 4183.333496,\n",
       "       4186.666504, 4180.641113, 4174.358887, 4178.589844, 4186.922852,\n",
       "       4189.358887, 4179.358887, 4167.820313, 4163.717773, 4165.      ,\n",
       "       4169.102539, 4169.102539, 4169.102539, 4169.871582, 4169.871582,\n",
       "       4176.538574, 4178.589844, 4169.487305, 4164.358887, 4162.563965,\n",
       "       4162.05127 , 4170.769043, 4185.769043, 4187.05127 , 4168.077148,\n",
       "       4162.179688, 4166.410156, 4156.666504, 4155.256348, 4168.589844,\n",
       "       4175.769043, 4180.384766, 4188.974121, 4189.230957, 4178.589844,\n",
       "       4178.077148, 4190.128418, 4191.794922, 4180.641113, 4171.922852,\n",
       "       4182.307617, 4197.307617, 4189.102539, 4183.333496, 4192.05127 ,\n",
       "       4195.897461, 4199.871582, 4197.05127 , 4183.974121, 4184.743652,\n",
       "       4197.05127 , 4198.589844, 4192.05127 , 4192.692383, 4192.563965,\n",
       "       4185.      , 4180.384766, 4178.846191, 4179.743652, 4179.743652,\n",
       "       4177.563965, 4184.871582, 4188.974121, 4180.897461, 4178.846191,\n",
       "       4177.307617, 4176.410156, 4181.025879, 4178.333496, 4175.641113,\n",
       "       4183.589844, 4189.871582, 4186.282227, 4182.692383, 4187.05127 ,\n",
       "       4186.282227, 4182.692383, 4186.922852, 4188.333496, 4188.717773,\n",
       "       4192.692383, 4196.794922, 4197.94873 , 4190.769043, 4183.461426,\n",
       "       4175.641113, 4169.743652, 4176.410156, 4183.333496, 4192.179688,\n",
       "       4206.666504, 4208.205078, 4200.769043, 4198.589844, 4202.563965,\n",
       "       4203.461426, 4196.282227, 4198.461426, 4202.94873 , 4192.820313,\n",
       "       4180.897461, 4171.153809, 4164.743652, 4163.717773, 4166.153809,\n",
       "       4168.461426, 4167.179688, 4176.538574, 4195.769043, 4202.436035,\n",
       "       4194.487305, 4175.769043, 4159.615234, 4157.307617, 4157.820313,\n",
       "       4157.563965, 4158.333496, 4162.179688, 4169.230957, 4172.563965,\n",
       "       4177.692383, 4183.077148, 4179.487305, 4177.94873 , 4178.077148,\n",
       "       4174.487305, 4177.05127 , 4181.282227, 4177.692383, 4169.230957,\n",
       "       4164.487305, 4158.589844, 4153.589844, 4166.282227, 4174.230957,\n",
       "       4164.871582, 4165.897461, 4179.102539, 4183.717773, 4177.820313,\n",
       "       4176.794922, 4177.05127 , 4164.487305, 4158.077148, 4165.384766,\n",
       "       4169.487305, 4172.05127 , 4175.641113, 4177.179688, 4183.589844,\n",
       "       4190.512695, 4187.563965, 4178.589844, 4177.692383, 4177.94873 ,\n",
       "       4172.820313, 4175.384766, 4180.128418, 4181.922852, 4183.461426,\n",
       "       4176.794922, 4176.025879, 4183.333496, 4178.846191, 4170.      ,\n",
       "       4166.666504, 4170.384766, 4174.230957, 4170.512695, 4174.102539,\n",
       "       4176.666504, 4176.025879, 4186.922852, 4191.025879, 4187.820313,\n",
       "       4186.153809, 4177.179688, 4165.769043, 4164.487305, 4172.692383,\n",
       "       4178.461426, 4177.563965, 4181.538574, 4187.94873 , 4181.794922,\n",
       "       4171.794922, 4172.05127 , 4175.512695, 4173.589844, 4173.846191,\n",
       "       4174.615234, 4169.871582, 4172.692383, 4176.922852, 4172.94873 ,\n",
       "       4175.      , 4180.512695, 4181.153809, 4176.538574, 4172.94873 ,\n",
       "       4174.102539, 4167.563965, 4164.615234, 4174.102539, 4177.436035,\n",
       "       4179.358887, 4184.358887, 4193.205078, 4199.358887, 4191.410156,\n",
       "       4182.563965, 4177.436035, 4176.794922, 4181.282227, 4181.025879,\n",
       "       4180.512695, 4185.384766, 4190.      , 4190.897461, 4186.410156,\n",
       "       4178.589844, 4170.      , 4163.589844, 4162.436035, 4164.615234,\n",
       "       4173.333496, 4180.256348, 4175.256348, 4172.179688, 4171.538574,\n",
       "       4165.897461, 4160.512695, 4154.615234, 4152.307617, 4153.077148,\n",
       "       4151.025879, 4157.692383, 4170.641113, 4180.512695, 4186.922852,\n",
       "       4186.794922, 4183.717773, 4178.077148, 4175.512695, 4173.461426,\n",
       "       4163.589844, 4159.615234, 4160.769043, 4162.820313, 4171.153809,\n",
       "       4175.128418, 4173.077148, 4172.820313, 4170.128418, 4167.820313,\n",
       "       4166.794922, 4163.333496, 4163.205078, 4171.282227, 4175.641113,\n",
       "       4171.538574, 4176.538574, 4181.794922, 4175.384766, 4177.05127 ,\n",
       "       4177.307617, 4169.871582, 4170.512695, 4178.589844, 4188.717773,\n",
       "       4185.128418, 4172.436035, 4172.820313, 4174.871582, 4166.410156,\n",
       "       4158.846191, 4167.307617, 4181.153809, 4177.692383, 4171.538574,\n",
       "       4174.230957, 4175.384766, 4182.05127 , 4186.410156, 4180.512695,\n",
       "       4178.461426, 4175.769043, 4168.077148, 4162.563965, 4163.589844,\n",
       "       4171.153809, 4177.563965, 4185.      , 4192.94873 , 4193.717773,\n",
       "       4192.436035, 4186.410156, 4175.128418, 4171.282227, 4174.358887,\n",
       "       4172.820313, 4166.025879, 4164.230957, 4166.410156, 4168.589844,\n",
       "       4180.384766, 4188.077148, 4183.717773, 4183.974121, 4187.05127 ,\n",
       "       4185.512695, 4178.589844, 4173.205078, 4174.743652, 4170.128418,\n",
       "       4165.      , 4168.333496, 4169.102539, 4171.666504, 4177.820313,\n",
       "       4182.307617, 4184.102539, 4178.974121, 4175.897461, 4176.794922,\n",
       "       4178.077148, 4178.846191, 4178.846191, 4181.538574, 4179.102539,\n",
       "       4173.461426, 4174.230957, 4177.05127 , 4180.769043])"
      ]
     },
     "execution_count": 32,
     "metadata": {},
     "output_type": "execute_result"
    }
   ],
   "source": [
    "y"
   ]
  },
  {
   "cell_type": "code",
   "execution_count": 33,
   "metadata": {},
   "outputs": [],
   "source": [
    "x = fft(y)"
   ]
  },
  {
   "cell_type": "code",
   "execution_count": 34,
   "metadata": {},
   "outputs": [
    {
     "data": {
      "text/plain": [
       "array([ 2.71424269e+06-0.00000000e+00j,  1.06489481e+03-1.82493135e+03j,\n",
       "        8.63713679e+02-2.16018546e+03j, -1.82678138e+02-7.24578944e+02j,\n",
       "       -2.20630293e+02-1.75327121e+02j,  1.35865797e+03-1.06808818e+01j,\n",
       "       -1.26896638e+02+3.54811361e+02j,  5.40037823e+02-1.14572061e+03j,\n",
       "       -2.12122911e+02-2.13452603e+02j,  6.35766520e+02-7.01979797e+02j,\n",
       "       -6.39422450e+02-1.03881195e+03j,  7.44232391e+02+4.78267444e+02j,\n",
       "        1.51306298e+01-1.32053344e+02j, -9.67087171e+01-4.68431264e+02j,\n",
       "        3.82866372e+02-6.60751052e+01j, -7.36612573e+01-8.81992885e+02j,\n",
       "        7.28549553e+02-2.76997447e+02j, -5.40094525e+02-3.57512201e+02j,\n",
       "        1.99006241e+01+1.16531730e+02j, -1.71271812e+02-2.21767869e+02j,\n",
       "       -8.29085473e+01-1.06736550e+02j,  3.67547854e+02-3.66976832e+02j,\n",
       "        5.78210212e+01+5.23176219e+01j, -4.37463044e+02+4.26510139e+02j,\n",
       "        7.12332124e+00+5.71206520e-01j,  3.40366015e+02-1.28158971e+02j,\n",
       "       -1.02957811e+02-3.66113798e+02j,  1.53250412e+02-4.57072341e+02j,\n",
       "        5.53538911e+01+7.05035424e+01j,  4.95153419e+01+1.49752439e+02j,\n",
       "        3.00002717e+02+2.63095606e+02j,  3.55818729e+01-1.82190201e+02j,\n",
       "       -1.23679460e+02-2.25370190e+02j,  4.40590492e+01+1.58810115e+02j,\n",
       "       -2.33376560e+01-3.09918746e+02j, -9.19652513e+01-1.11379597e+02j,\n",
       "        3.19711229e+01+3.90815293e+02j,  4.65117564e+01-3.52302883e+02j,\n",
       "       -7.47390877e+02+8.39087431e+02j,  3.20362107e+02+4.39347868e+02j,\n",
       "        2.29443830e+02-5.32361883e+02j,  1.72387750e+02+3.27503911e+02j,\n",
       "       -2.67757597e+02+4.03029118e+01j,  7.42461877e+02-1.05551463e+02j,\n",
       "        1.21697080e+02+2.18600694e+02j, -3.47698394e+01-6.73369777e+02j,\n",
       "        5.96523868e+02-5.04909771e+02j,  3.27734405e+02-3.18575882e+02j,\n",
       "        3.24658110e+02-4.70944769e+02j,  1.08103823e+03-9.79150074e+01j,\n",
       "        5.27802809e+02-1.49390269e+02j,  1.48849081e+02-6.99767414e+02j,\n",
       "       -1.50007393e+02-4.45402536e+02j, -4.06481508e+02+6.68796227e+02j,\n",
       "        4.46698515e+02-1.98452995e+02j, -1.86842595e+02-2.95386672e+02j,\n",
       "        5.45425433e+02+2.92550432e+02j,  4.99999872e+01-7.83877304e+01j,\n",
       "       -6.98499173e+02+1.95463253e+02j, -3.38050904e+02-4.12189507e+02j,\n",
       "       -1.40980043e+01-4.26003123e+02j,  6.27898872e+02+1.18577539e+02j,\n",
       "        1.02421515e+02-3.32722041e+02j,  3.18691961e+02+1.32205733e+02j,\n",
       "        2.11594606e+02-2.04349821e+02j, -3.81927485e+02-1.16391083e+02j,\n",
       "       -6.34974476e+01-4.34697514e+02j,  4.36698977e+02+7.80892795e+01j,\n",
       "       -3.54438074e+02-2.61911339e+02j,  4.36581496e+02-1.92088986e+02j,\n",
       "       -2.25495043e+02-1.01779097e+02j, -2.78009767e+02-2.81907002e+02j,\n",
       "        2.73263110e+02-2.76742993e+01j,  7.22934436e+00+2.44306302e+01j,\n",
       "       -4.44214661e+01-1.31262342e+02j, -8.34743231e+00-4.35893041e+02j,\n",
       "       -3.47529301e+02-3.05903520e+02j,  1.97844642e+02-4.27272671e+02j,\n",
       "       -2.21440950e+02+7.23037503e+01j,  6.74119617e+01-2.66710845e+01j,\n",
       "        4.09822552e+01-1.24836008e+02j,  2.93028745e+02-1.38266691e+02j,\n",
       "       -2.14484865e+02-1.39248668e+02j, -2.14609743e+02+1.53715093e+02j,\n",
       "        1.81296763e+01+1.46523297e+02j,  6.77008031e+01-1.64699725e+02j,\n",
       "       -4.75743855e+01+1.70611693e+02j, -3.06023350e+01-2.59902697e+02j,\n",
       "        1.27444827e+01-1.92671468e+02j, -1.80707389e+01-2.31840767e+02j,\n",
       "        2.20787110e+02-1.64285108e+02j, -1.19668351e+02-2.51699605e+01j,\n",
       "        1.68809339e+02-6.58533383e+01j,  6.51125466e+01-1.45978996e+02j,\n",
       "        8.58691128e+01+6.16227002e+01j,  6.08070024e+01-4.55216670e+01j,\n",
       "        4.34362121e+01+8.30706372e+01j,  8.70449265e+01-9.66103168e+01j,\n",
       "       -1.73524554e-01-1.51862137e+02j, -7.28871247e+01+8.24730089e+01j,\n",
       "       -1.44082333e+02-2.99542534e+02j,  8.01554706e+01+1.37708395e+02j,\n",
       "        1.05410892e+02-9.70776052e+01j, -2.44197185e+02+5.86065649e+01j,\n",
       "        6.00867448e+01+3.99981194e+02j,  5.02486714e+01+1.80057087e+02j,\n",
       "        1.76548098e+02-2.74565800e+02j,  1.61382094e+02-8.13375751e+01j,\n",
       "       -1.32083874e+02-1.31054035e+02j,  7.33684794e+01-7.59248913e+01j,\n",
       "        7.41140831e+01-1.62543328e+02j, -2.25141764e+02+1.06902196e+02j,\n",
       "       -1.43262676e+02-7.74367154e+01j,  3.40328239e+02+1.55778890e+02j,\n",
       "        2.21566379e+02-9.14103355e+01j,  5.29176311e+01-1.66211395e+01j,\n",
       "        8.13936609e+01-1.75471088e+02j,  9.37659514e-02-2.41046571e+01j,\n",
       "       -1.39306559e+02-1.43169807e+02j, -6.79938056e+01+2.96144891e+02j,\n",
       "        1.59186443e+02-7.81929807e+01j, -1.02113993e+02+6.23436146e+01j,\n",
       "        2.43726701e+02+6.59159652e+01j, -2.87586726e+01-1.96209131e+02j,\n",
       "        1.37217010e+02-1.94166274e+02j, -9.96244246e+01+3.28359257e+01j,\n",
       "       -3.80058332e+01-2.67578390e+02j, -1.03599365e+02+6.24437984e+00j,\n",
       "        2.34908132e+01-1.17944524e+02j,  2.42327798e+02-1.09298968e+02j,\n",
       "        3.76068861e+01-1.79610995e+02j, -5.58817265e+01+1.02186916e+02j,\n",
       "       -4.39825634e+01-1.92269382e+02j,  2.19608732e+01-2.08451903e+02j,\n",
       "       -2.72009435e+02+7.73736069e+01j,  6.71402723e+01-7.93480195e+01j,\n",
       "        1.28796847e+02-8.22927429e+00j, -6.71180475e+01-2.73474631e+02j,\n",
       "       -2.65183225e+01+2.61759185e+01j,  1.85328502e+01+9.16589969e+01j,\n",
       "        2.52361037e+01+1.39710651e+02j, -2.04914056e+01-1.69593481e+01j,\n",
       "        4.01040271e+00+4.25310385e+01j, -2.17930379e+02-7.13621131e+01j,\n",
       "        1.39098498e+02-4.44843099e+01j, -2.79969307e+02-1.27962238e+02j,\n",
       "       -1.23536162e+02+5.87555313e+01j,  8.93289413e+00+4.31287389e+01j,\n",
       "        6.57809948e+01-1.40900013e+02j, -4.29866295e+00+3.13377740e+01j,\n",
       "        3.06649493e+01-9.30341310e+01j, -1.50793980e+01+7.30569881e+01j,\n",
       "       -2.51948418e+01+2.08912930e+02j,  3.43681669e+00+9.01801059e+01j,\n",
       "       -1.53844867e+02-9.22195608e+00j,  2.13562424e+02-3.59541633e+01j,\n",
       "       -3.57385050e+01+1.05065150e+02j, -9.31191498e+01+2.95738916e+01j,\n",
       "        1.30508994e+02-4.97139101e+01j,  7.66170023e+01-1.97166650e+02j,\n",
       "        6.62744766e+01-1.33769530e+01j, -1.19853713e+02-2.10520330e+01j,\n",
       "        9.75369055e+01+4.50157313e+01j, -2.99321556e+01+1.44164129e+02j,\n",
       "       -6.28812393e+01-3.50771886e+00j,  6.88468171e+00+5.20790047e+01j,\n",
       "       -6.94280350e+01+5.99363063e+01j, -5.05832546e+01-7.49235152e+01j,\n",
       "       -1.42298757e+02-1.12629364e+02j, -1.06979191e+02+2.53071107e+02j,\n",
       "        1.25011123e+02+1.16843965e+02j,  1.04213365e+02+1.35483481e+02j,\n",
       "        1.25421448e+02+1.00126478e+01j,  7.01102429e+01+2.64739514e+01j,\n",
       "        1.85017876e+01-1.25597087e+01j, -1.47861728e+01-6.71464117e+01j,\n",
       "       -6.57478231e+01+8.87484404e+01j,  6.08001595e+01-1.38114661e+02j,\n",
       "       -1.47966028e+02-9.44751169e+01j,  2.03690320e+02-3.83384582e+01j,\n",
       "       -6.62974054e+01-9.86523744e+01j,  1.39230589e+02-1.15461962e+01j,\n",
       "        1.02208801e+01+1.53435897e+02j,  7.20958903e+01+2.98410871e+01j,\n",
       "        1.23020094e+02-1.55445003e+02j,  1.05105145e+01-1.17101125e+02j,\n",
       "        2.59405775e+01+1.31014091e+02j, -5.23567762e+01-2.43535720e+02j,\n",
       "        5.91389021e+01+4.91850212e+01j,  1.11688462e+02-5.31071528e+01j,\n",
       "        1.18489594e+02+4.10515221e+01j, -6.00903058e+01-1.78613426e+01j,\n",
       "        1.39569044e+02-3.36343894e+01j, -2.32232174e+01-6.07492302e+01j,\n",
       "       -4.93742349e+01-2.19226918e+01j,  4.70135478e+01+1.08909945e+02j,\n",
       "       -1.34231526e+02-2.50246128e+01j, -4.92583773e+01-1.19872331e+02j,\n",
       "        6.18160852e+01-4.50684531e-01j, -1.26665036e+02+7.09344556e+01j,\n",
       "        1.04406609e+01-9.78485670e+00j,  8.15576987e+01-1.77616757e+01j,\n",
       "        8.07718248e+01-2.93305481e+01j,  3.51653670e+01-5.89125242e+01j,\n",
       "        7.25609069e+01-1.91561081e+02j, -3.62705462e+01-1.55231200e+01j,\n",
       "        2.91390935e+01-1.29620744e+01j, -8.96897366e-01-6.07390981e+01j,\n",
       "        6.56626268e+00-5.53258973e+01j, -1.09380562e+02+8.37290706e+01j,\n",
       "       -3.19440196e+01+5.56286569e+01j, -3.50346219e+00+8.85234515e+01j,\n",
       "        5.25447293e+01-6.35119559e+01j, -1.44922726e+01-2.73706707e+00j,\n",
       "        3.50266725e+00-2.88820479e+01j,  8.96204159e+01-1.94670102e+01j,\n",
       "        3.88657891e+01+3.74077733e+01j,  1.08177076e+02-2.11332872e+01j,\n",
       "       -1.15111406e+02+4.80495564e+01j,  4.21382568e+01+1.71222656e+01j,\n",
       "        1.49718119e+01+1.51085078e+01j,  6.39398945e+01-5.63877279e+01j,\n",
       "        3.89944161e+01-5.48174122e+01j,  4.13606906e+00+7.64401158e+00j,\n",
       "        1.07993188e+02-2.16788449e+01j, -3.02326149e+01-4.96870973e+01j,\n",
       "        4.04908098e+01+7.77255047e+00j,  1.39410560e+01+3.71497537e+01j,\n",
       "        9.30014325e+00-6.16454990e+01j,  1.76367639e+01+1.03238273e+01j,\n",
       "        2.13897480e+01+8.46617849e+00j, -2.58809002e+01+9.36635907e+00j,\n",
       "        2.52506171e+01+1.06933421e+01j,  4.61407167e+01+1.45960169e+00j,\n",
       "        4.37571855e+01+3.38530758e+01j, -9.80061962e+00-6.15334802e+00j,\n",
       "       -1.25793944e+01-2.39665813e+01j,  1.47566283e+01-3.59721530e+01j,\n",
       "        1.24754364e+01-9.87006831e+00j,  8.99735657e+00-9.87697454e+00j,\n",
       "        1.40503203e+01-2.50939628e+01j,  2.99859396e+01-1.71535951e+01j,\n",
       "        3.64372047e+01+1.27445233e+01j,  1.11510430e+01-4.25439494e+00j,\n",
       "        8.47133382e+00-1.72397352e+01j,  2.05916839e+01-9.00553109e+00j,\n",
       "        6.26330291e-02-1.01719033e+01j,  8.70261829e+00-2.13229966e+01j,\n",
       "        5.81542445e+00-1.20786510e+01j,  1.06143522e+01-2.17513819e+01j,\n",
       "        1.07864327e+00-2.11742761e+01j,  1.00401638e+00-2.70479763e+01j,\n",
       "       -2.57755773e+01-5.95621715e+01j,  1.51375227e+02+1.82106662e+02j,\n",
       "        3.98576951e+01+2.61015608e+01j,  2.87438641e+01+1.25775907e+01j,\n",
       "        2.45457651e+01+8.71164028e+00j,  2.17562506e+01+3.41240778e+00j,\n",
       "        2.51926922e+01+5.89131179e+00j,  2.34911666e+01+3.90025241e+00j,\n",
       "        2.21587118e+01-7.28832994e+00j,  1.98427574e+01+2.47644547e+00j,\n",
       "        2.73315817e+01+3.66384859e+00j,  1.72575339e+01+3.67260791e+00j,\n",
       "        1.80909298e+01+9.68695810e+00j,  1.00367290e+01-6.10597333e+00j,\n",
       "        1.85552734e+01-2.01532189e-01j,  2.03633007e+01-1.13041507e+01j,\n",
       "        1.59336726e+01-1.63142665e+00j,  1.29575151e+01+1.12690966e+01j,\n",
       "        1.38272337e+01+4.46384612e+00j,  2.36864468e+01-4.53801089e+00j,\n",
       "        3.30339018e+01-3.40401443e+00j,  2.76428007e+01+5.80000776e+00j,\n",
       "        2.12925784e+01-6.21687116e+00j,  1.47107835e+01-9.61121486e+00j,\n",
       "        2.13975010e+01-9.56149168e-01j,  2.22840335e+01-1.63060075e+01j,\n",
       "        1.39617260e+01-8.77759222e+00j,  1.47812183e+01-3.31219771e+00j,\n",
       "        2.37463027e+01-4.99116742e+00j,  1.98371804e+01-9.46958453e+00j,\n",
       "        1.37451719e+01+1.76847584e+00j,  1.98988209e+01-8.07530117e+00j,\n",
       "        1.13559674e+01-6.56077562e+00j,  1.60669022e+01+2.23610852e+00j,\n",
       "        1.72112231e+01-1.02296599e+01j,  1.45887303e+01-5.79877821e+00j,\n",
       "        2.49231849e+01-7.31001796e+00j,  1.31733099e+01-6.34513403e-01j,\n",
       "        1.39611646e+01-3.02126734e+00j,  1.77621039e+01-2.41309138e+00j,\n",
       "        2.05627310e+01-7.02605920e+00j,  1.64653630e+01-3.72776695e+00j,\n",
       "        1.92574060e+01-5.70816965e-01j,  1.60571061e+01-1.76393128e+00j,\n",
       "        1.87643370e+01-3.78645013e+00j,  1.83287283e+01-3.94265291e-01j,\n",
       "        1.83143840e+01-4.54092729e+00j,  1.68191332e+01-1.64469226e+00j,\n",
       "        1.81252842e+01-2.71311873e-01j,  1.93862601e+01-6.68783109e-01j,\n",
       "        1.83814294e+01-2.36202056e+00j,  1.82612124e+01-1.22216713e+00j,\n",
       "        1.64775490e+01-7.28799783e-01j,  1.91042610e+01-1.64297200e+00j,\n",
       "        1.56727948e+01-1.07357158e+00j,  1.87715775e+01-2.35799236e+00j,\n",
       "        1.85387716e+01-1.64208996e+00j,  1.85671272e+01-7.80981943e-01j,\n",
       "        1.71693597e+01-1.59629089e+00j,  1.74279721e+01+1.83268104e-01j,\n",
       "        1.90430042e+01-4.79563298e+00j,  1.79441201e+01-7.31756821e-01j,\n",
       "        1.58362936e+01-1.41318432e+00j,  1.68365767e+01-6.72990693e-01j,\n",
       "        1.95463734e+01-1.61945233e-01j,  1.93172552e+01+6.85771192e-02j,\n",
       "        1.52258485e+01-5.38719066e-01j,  1.65259990e+01+1.85157287e+00j,\n",
       "        1.83298780e+01+2.81362948e+00j,  1.54638904e+01-6.77617579e-01j,\n",
       "        1.97094818e+01-6.32985300e-01j,  1.65777396e+01-1.74158755e+00j,\n",
       "        1.71183739e+01+1.50730834e+00j,  1.71183739e+01-1.50730834e+00j,\n",
       "        1.65777396e+01+1.74158755e+00j,  1.97094818e+01+6.32985300e-01j,\n",
       "        1.54638904e+01+6.77617579e-01j,  1.83298780e+01-2.81362948e+00j,\n",
       "        1.65259990e+01-1.85157287e+00j,  1.52258485e+01+5.38719066e-01j,\n",
       "        1.93172552e+01-6.85771192e-02j,  1.95463734e+01+1.61945233e-01j,\n",
       "        1.68365767e+01+6.72990693e-01j,  1.58362936e+01+1.41318432e+00j,\n",
       "        1.79441201e+01+7.31756821e-01j,  1.90430042e+01+4.79563298e+00j,\n",
       "        1.74279721e+01-1.83268104e-01j,  1.71693597e+01+1.59629089e+00j,\n",
       "        1.85671272e+01+7.80981943e-01j,  1.85387716e+01+1.64208996e+00j,\n",
       "        1.87715775e+01+2.35799236e+00j,  1.56727948e+01+1.07357158e+00j,\n",
       "        1.91042610e+01+1.64297200e+00j,  1.64775490e+01+7.28799783e-01j,\n",
       "        1.82612124e+01+1.22216713e+00j,  1.83814294e+01+2.36202056e+00j,\n",
       "        1.93862601e+01+6.68783109e-01j,  1.81252842e+01+2.71311873e-01j,\n",
       "        1.68191332e+01+1.64469226e+00j,  1.83143840e+01+4.54092729e+00j,\n",
       "        1.83287283e+01+3.94265291e-01j,  1.87643370e+01+3.78645013e+00j,\n",
       "        1.60571061e+01+1.76393128e+00j,  1.92574060e+01+5.70816965e-01j,\n",
       "        1.64653630e+01+3.72776695e+00j,  2.05627310e+01+7.02605920e+00j,\n",
       "        1.77621039e+01+2.41309138e+00j,  1.39611646e+01+3.02126734e+00j,\n",
       "        1.31733099e+01+6.34513403e-01j,  2.49231849e+01+7.31001796e+00j,\n",
       "        1.45887303e+01+5.79877821e+00j,  1.72112231e+01+1.02296599e+01j,\n",
       "        1.60669022e+01-2.23610852e+00j,  1.13559674e+01+6.56077562e+00j,\n",
       "        1.98988209e+01+8.07530117e+00j,  1.37451719e+01-1.76847584e+00j,\n",
       "        1.98371804e+01+9.46958453e+00j,  2.37463027e+01+4.99116742e+00j,\n",
       "        1.47812183e+01+3.31219771e+00j,  1.39617260e+01+8.77759222e+00j,\n",
       "        2.22840335e+01+1.63060075e+01j,  2.13975010e+01+9.56149168e-01j,\n",
       "        1.47107835e+01+9.61121486e+00j,  2.12925784e+01+6.21687116e+00j,\n",
       "        2.76428007e+01-5.80000776e+00j,  3.30339018e+01+3.40401443e+00j,\n",
       "        2.36864468e+01+4.53801089e+00j,  1.38272337e+01-4.46384612e+00j,\n",
       "        1.29575151e+01-1.12690966e+01j,  1.59336726e+01+1.63142665e+00j,\n",
       "        2.03633007e+01+1.13041507e+01j,  1.85552734e+01+2.01532189e-01j,\n",
       "        1.00367290e+01+6.10597333e+00j,  1.80909298e+01-9.68695810e+00j,\n",
       "        1.72575339e+01-3.67260791e+00j,  2.73315817e+01-3.66384859e+00j,\n",
       "        1.98427574e+01-2.47644547e+00j,  2.21587118e+01+7.28832994e+00j,\n",
       "        2.34911666e+01-3.90025241e+00j,  2.51926922e+01-5.89131179e+00j,\n",
       "        2.17562506e+01-3.41240778e+00j,  2.45457651e+01-8.71164028e+00j,\n",
       "        2.87438641e+01-1.25775907e+01j,  3.98576951e+01-2.61015608e+01j,\n",
       "        1.51375227e+02-1.82106662e+02j, -2.57755773e+01+5.95621715e+01j,\n",
       "        1.00401638e+00+2.70479763e+01j,  1.07864327e+00+2.11742761e+01j,\n",
       "        1.06143522e+01+2.17513819e+01j,  5.81542445e+00+1.20786510e+01j,\n",
       "        8.70261829e+00+2.13229966e+01j,  6.26330291e-02+1.01719033e+01j,\n",
       "        2.05916839e+01+9.00553109e+00j,  8.47133382e+00+1.72397352e+01j,\n",
       "        1.11510430e+01+4.25439494e+00j,  3.64372047e+01-1.27445233e+01j,\n",
       "        2.99859396e+01+1.71535951e+01j,  1.40503203e+01+2.50939628e+01j,\n",
       "        8.99735657e+00+9.87697454e+00j,  1.24754364e+01+9.87006831e+00j,\n",
       "        1.47566283e+01+3.59721530e+01j, -1.25793944e+01+2.39665813e+01j,\n",
       "       -9.80061962e+00+6.15334802e+00j,  4.37571855e+01-3.38530758e+01j,\n",
       "        4.61407167e+01-1.45960169e+00j,  2.52506171e+01-1.06933421e+01j,\n",
       "       -2.58809002e+01-9.36635907e+00j,  2.13897480e+01-8.46617849e+00j,\n",
       "        1.76367639e+01-1.03238273e+01j,  9.30014325e+00+6.16454990e+01j,\n",
       "        1.39410560e+01-3.71497537e+01j,  4.04908098e+01-7.77255047e+00j,\n",
       "       -3.02326149e+01+4.96870973e+01j,  1.07993188e+02+2.16788449e+01j,\n",
       "        4.13606906e+00-7.64401158e+00j,  3.89944161e+01+5.48174122e+01j,\n",
       "        6.39398945e+01+5.63877279e+01j,  1.49718119e+01-1.51085078e+01j,\n",
       "        4.21382568e+01-1.71222656e+01j, -1.15111406e+02-4.80495564e+01j,\n",
       "        1.08177076e+02+2.11332872e+01j,  3.88657891e+01-3.74077733e+01j,\n",
       "        8.96204159e+01+1.94670102e+01j,  3.50266725e+00+2.88820479e+01j,\n",
       "       -1.44922726e+01+2.73706707e+00j,  5.25447293e+01+6.35119559e+01j,\n",
       "       -3.50346219e+00-8.85234515e+01j, -3.19440196e+01-5.56286569e+01j,\n",
       "       -1.09380562e+02-8.37290706e+01j,  6.56626268e+00+5.53258973e+01j,\n",
       "       -8.96897366e-01+6.07390981e+01j,  2.91390935e+01+1.29620744e+01j,\n",
       "       -3.62705462e+01+1.55231200e+01j,  7.25609069e+01+1.91561081e+02j,\n",
       "        3.51653670e+01+5.89125242e+01j,  8.07718248e+01+2.93305481e+01j,\n",
       "        8.15576987e+01+1.77616757e+01j,  1.04406609e+01+9.78485670e+00j,\n",
       "       -1.26665036e+02-7.09344556e+01j,  6.18160852e+01+4.50684531e-01j,\n",
       "       -4.92583773e+01+1.19872331e+02j, -1.34231526e+02+2.50246128e+01j,\n",
       "        4.70135478e+01-1.08909945e+02j, -4.93742349e+01+2.19226918e+01j,\n",
       "       -2.32232174e+01+6.07492302e+01j,  1.39569044e+02+3.36343894e+01j,\n",
       "       -6.00903058e+01+1.78613426e+01j,  1.18489594e+02-4.10515221e+01j,\n",
       "        1.11688462e+02+5.31071528e+01j,  5.91389021e+01-4.91850212e+01j,\n",
       "       -5.23567762e+01+2.43535720e+02j,  2.59405775e+01-1.31014091e+02j,\n",
       "        1.05105145e+01+1.17101125e+02j,  1.23020094e+02+1.55445003e+02j,\n",
       "        7.20958903e+01-2.98410871e+01j,  1.02208801e+01-1.53435897e+02j,\n",
       "        1.39230589e+02+1.15461962e+01j, -6.62974054e+01+9.86523744e+01j,\n",
       "        2.03690320e+02+3.83384582e+01j, -1.47966028e+02+9.44751169e+01j,\n",
       "        6.08001595e+01+1.38114661e+02j, -6.57478231e+01-8.87484404e+01j,\n",
       "       -1.47861728e+01+6.71464117e+01j,  1.85017876e+01+1.25597087e+01j,\n",
       "        7.01102429e+01-2.64739514e+01j,  1.25421448e+02-1.00126478e+01j,\n",
       "        1.04213365e+02-1.35483481e+02j,  1.25011123e+02-1.16843965e+02j,\n",
       "       -1.06979191e+02-2.53071107e+02j, -1.42298757e+02+1.12629364e+02j,\n",
       "       -5.05832546e+01+7.49235152e+01j, -6.94280350e+01-5.99363063e+01j,\n",
       "        6.88468171e+00-5.20790047e+01j, -6.28812393e+01+3.50771886e+00j,\n",
       "       -2.99321556e+01-1.44164129e+02j,  9.75369055e+01-4.50157313e+01j,\n",
       "       -1.19853713e+02+2.10520330e+01j,  6.62744766e+01+1.33769530e+01j,\n",
       "        7.66170023e+01+1.97166650e+02j,  1.30508994e+02+4.97139101e+01j,\n",
       "       -9.31191498e+01-2.95738916e+01j, -3.57385050e+01-1.05065150e+02j,\n",
       "        2.13562424e+02+3.59541633e+01j, -1.53844867e+02+9.22195608e+00j,\n",
       "        3.43681669e+00-9.01801059e+01j, -2.51948418e+01-2.08912930e+02j,\n",
       "       -1.50793980e+01-7.30569881e+01j,  3.06649493e+01+9.30341310e+01j,\n",
       "       -4.29866295e+00-3.13377740e+01j,  6.57809948e+01+1.40900013e+02j,\n",
       "        8.93289413e+00-4.31287389e+01j, -1.23536162e+02-5.87555313e+01j,\n",
       "       -2.79969307e+02+1.27962238e+02j,  1.39098498e+02+4.44843099e+01j,\n",
       "       -2.17930379e+02+7.13621131e+01j,  4.01040271e+00-4.25310385e+01j,\n",
       "       -2.04914056e+01+1.69593481e+01j,  2.52361037e+01-1.39710651e+02j,\n",
       "        1.85328502e+01-9.16589969e+01j, -2.65183225e+01-2.61759185e+01j,\n",
       "       -6.71180475e+01+2.73474631e+02j,  1.28796847e+02+8.22927429e+00j,\n",
       "        6.71402723e+01+7.93480195e+01j, -2.72009435e+02-7.73736069e+01j,\n",
       "        2.19608732e+01+2.08451903e+02j, -4.39825634e+01+1.92269382e+02j,\n",
       "       -5.58817265e+01-1.02186916e+02j,  3.76068861e+01+1.79610995e+02j,\n",
       "        2.42327798e+02+1.09298968e+02j,  2.34908132e+01+1.17944524e+02j,\n",
       "       -1.03599365e+02-6.24437984e+00j, -3.80058332e+01+2.67578390e+02j,\n",
       "       -9.96244246e+01-3.28359257e+01j,  1.37217010e+02+1.94166274e+02j,\n",
       "       -2.87586726e+01+1.96209131e+02j,  2.43726701e+02-6.59159652e+01j,\n",
       "       -1.02113993e+02-6.23436146e+01j,  1.59186443e+02+7.81929807e+01j,\n",
       "       -6.79938056e+01-2.96144891e+02j, -1.39306559e+02+1.43169807e+02j,\n",
       "        9.37659514e-02+2.41046571e+01j,  8.13936609e+01+1.75471088e+02j,\n",
       "        5.29176311e+01+1.66211395e+01j,  2.21566379e+02+9.14103355e+01j,\n",
       "        3.40328239e+02-1.55778890e+02j, -1.43262676e+02+7.74367154e+01j,\n",
       "       -2.25141764e+02-1.06902196e+02j,  7.41140831e+01+1.62543328e+02j,\n",
       "        7.33684794e+01+7.59248913e+01j, -1.32083874e+02+1.31054035e+02j,\n",
       "        1.61382094e+02+8.13375751e+01j,  1.76548098e+02+2.74565800e+02j,\n",
       "        5.02486714e+01-1.80057087e+02j,  6.00867448e+01-3.99981194e+02j,\n",
       "       -2.44197185e+02-5.86065649e+01j,  1.05410892e+02+9.70776052e+01j,\n",
       "        8.01554706e+01-1.37708395e+02j, -1.44082333e+02+2.99542534e+02j,\n",
       "       -7.28871247e+01-8.24730089e+01j, -1.73524554e-01+1.51862137e+02j,\n",
       "        8.70449265e+01+9.66103168e+01j,  4.34362121e+01-8.30706372e+01j,\n",
       "        6.08070024e+01+4.55216670e+01j,  8.58691128e+01-6.16227002e+01j,\n",
       "        6.51125466e+01+1.45978996e+02j,  1.68809339e+02+6.58533383e+01j,\n",
       "       -1.19668351e+02+2.51699605e+01j,  2.20787110e+02+1.64285108e+02j,\n",
       "       -1.80707389e+01+2.31840767e+02j,  1.27444827e+01+1.92671468e+02j,\n",
       "       -3.06023350e+01+2.59902697e+02j, -4.75743855e+01-1.70611693e+02j,\n",
       "        6.77008031e+01+1.64699725e+02j,  1.81296763e+01-1.46523297e+02j,\n",
       "       -2.14609743e+02-1.53715093e+02j, -2.14484865e+02+1.39248668e+02j,\n",
       "        2.93028745e+02+1.38266691e+02j,  4.09822552e+01+1.24836008e+02j,\n",
       "        6.74119617e+01+2.66710845e+01j, -2.21440950e+02-7.23037503e+01j,\n",
       "        1.97844642e+02+4.27272671e+02j, -3.47529301e+02+3.05903520e+02j,\n",
       "       -8.34743231e+00+4.35893041e+02j, -4.44214661e+01+1.31262342e+02j,\n",
       "        7.22934436e+00-2.44306302e+01j,  2.73263110e+02+2.76742993e+01j,\n",
       "       -2.78009767e+02+2.81907002e+02j, -2.25495043e+02+1.01779097e+02j,\n",
       "        4.36581496e+02+1.92088986e+02j, -3.54438074e+02+2.61911339e+02j,\n",
       "        4.36698977e+02-7.80892795e+01j, -6.34974476e+01+4.34697514e+02j,\n",
       "       -3.81927485e+02+1.16391083e+02j,  2.11594606e+02+2.04349821e+02j,\n",
       "        3.18691961e+02-1.32205733e+02j,  1.02421515e+02+3.32722041e+02j,\n",
       "        6.27898872e+02-1.18577539e+02j, -1.40980043e+01+4.26003123e+02j,\n",
       "       -3.38050904e+02+4.12189507e+02j, -6.98499173e+02-1.95463253e+02j,\n",
       "        4.99999872e+01+7.83877304e+01j,  5.45425433e+02-2.92550432e+02j,\n",
       "       -1.86842595e+02+2.95386672e+02j,  4.46698515e+02+1.98452995e+02j,\n",
       "       -4.06481508e+02-6.68796227e+02j, -1.50007393e+02+4.45402536e+02j,\n",
       "        1.48849081e+02+6.99767414e+02j,  5.27802809e+02+1.49390269e+02j,\n",
       "        1.08103823e+03+9.79150074e+01j,  3.24658110e+02+4.70944769e+02j,\n",
       "        3.27734405e+02+3.18575882e+02j,  5.96523868e+02+5.04909771e+02j,\n",
       "       -3.47698394e+01+6.73369777e+02j,  1.21697080e+02-2.18600694e+02j,\n",
       "        7.42461877e+02+1.05551463e+02j, -2.67757597e+02-4.03029118e+01j,\n",
       "        1.72387750e+02-3.27503911e+02j,  2.29443830e+02+5.32361883e+02j,\n",
       "        3.20362107e+02-4.39347868e+02j, -7.47390877e+02-8.39087431e+02j,\n",
       "        4.65117564e+01+3.52302883e+02j,  3.19711229e+01-3.90815293e+02j,\n",
       "       -9.19652513e+01+1.11379597e+02j, -2.33376560e+01+3.09918746e+02j,\n",
       "        4.40590492e+01-1.58810115e+02j, -1.23679460e+02+2.25370190e+02j,\n",
       "        3.55818729e+01+1.82190201e+02j,  3.00002717e+02-2.63095606e+02j,\n",
       "        4.95153419e+01-1.49752439e+02j,  5.53538911e+01-7.05035424e+01j,\n",
       "        1.53250412e+02+4.57072341e+02j, -1.02957811e+02+3.66113798e+02j,\n",
       "        3.40366015e+02+1.28158971e+02j,  7.12332124e+00-5.71206520e-01j,\n",
       "       -4.37463044e+02-4.26510139e+02j,  5.78210212e+01-5.23176219e+01j,\n",
       "        3.67547854e+02+3.66976832e+02j, -8.29085473e+01+1.06736550e+02j,\n",
       "       -1.71271812e+02+2.21767869e+02j,  1.99006241e+01-1.16531730e+02j,\n",
       "       -5.40094525e+02+3.57512201e+02j,  7.28549553e+02+2.76997447e+02j,\n",
       "       -7.36612573e+01+8.81992885e+02j,  3.82866372e+02+6.60751052e+01j,\n",
       "       -9.67087171e+01+4.68431264e+02j,  1.51306298e+01+1.32053344e+02j,\n",
       "        7.44232391e+02-4.78267444e+02j, -6.39422450e+02+1.03881195e+03j,\n",
       "        6.35766520e+02+7.01979797e+02j, -2.12122911e+02+2.13452603e+02j,\n",
       "        5.40037823e+02+1.14572061e+03j, -1.26896638e+02-3.54811361e+02j,\n",
       "        1.35865797e+03+1.06808818e+01j, -2.20630293e+02+1.75327121e+02j,\n",
       "       -1.82678138e+02+7.24578944e+02j,  8.63713679e+02+2.16018546e+03j,\n",
       "        1.06489481e+03+1.82493135e+03j])"
      ]
     },
     "execution_count": 34,
     "metadata": {},
     "output_type": "execute_result"
    }
   ],
   "source": [
    "x"
   ]
  },
  {
   "cell_type": "code",
   "execution_count": 38,
   "metadata": {},
   "outputs": [
    {
     "name": "stderr",
     "output_type": "stream",
     "text": [
      "C:\\Users\\KHALS\\anaconda3\\lib\\site-packages\\numpy\\core\\_asarray.py:83: ComplexWarning: Casting complex values to real discards the imaginary part\n",
      "  return array(a, dtype, copy=False, order=order)\n"
     ]
    },
    {
     "data": {
      "text/plain": [
       "[<matplotlib.lines.Line2D at 0x20ad81f7fd0>]"
      ]
     },
     "execution_count": 38,
     "metadata": {},
     "output_type": "execute_result"
    },
    {
     "data": {
      "image/png": "[encoded data removed]",
      "text/plain": [
       "<Figure size 432x288 with 1 Axes>"
      ]
     },
     "metadata": {
      "needs_background": "light"
     },
     "output_type": "display_data"
    }
   ],
   "source": [
    "plt.plot(x)"
   ]
  },
  {
   "cell_type": "code",
   "execution_count": null,
   "metadata": {},
   "outputs": [],
   "source": []
  }
 ],
 "metadata": {
  "kernelspec": {
   "display_name": "Python 3",
   "language": "python",
   "name": "python3"
  },
  "language_info": {
   "codemirror_mode": {
    "name": "ipython",
    "version": 3
   },
   "file_extension": ".py",
   "mimetype": "text/x-python",
   "name": "python",
   "nbconvert_exporter": "python",
   "pygments_lexer": "ipython3",
   "version": "3.8.5"
  }
 },
 "nbformat": 4,
 "nbformat_minor": 4
}
