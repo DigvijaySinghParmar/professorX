{
 "cells": [
  {
   "cell_type": "code",
   "execution_count": 2,
   "metadata": {},
   "outputs": [],
   "source": [
    "import numpy as np\n",
    "import pandas as pd\n",
    "from scipy import signal\n",
    "from scipy.integrate import simps\n",
    "import pywt"
   ]
  },
  {
   "cell_type": "code",
   "execution_count": 2,
   "metadata": {},
   "outputs": [],
   "source": [
    "class Feature():\n",
    "\n",
    "    def __init__(self, channels, readings, filename = \"data.csv\"):\n",
    "        # name of file where data is being stored along with extension\n",
    "        self.filename = filename\n",
    "        self.channels = channels\n",
    "        self.readings = readings\n",
    "        self.delta_values = []\n",
    "        self.theta_values = []\n",
    "        self.alpha_values = []\n",
    "        self.beta_values = []\n",
    "        arr = range(self.readings)\n",
    "        self.feature = pd.DataFrame(arr, columns=['Redundant'])\n",
    "        self.feature.to_csv('feature.csv')\n",
    "\n",
    "    # function plots welchs periodogram and calculates area under the curve for respective frequency band using composite simpsons rules\n",
    "    def relative_psd(self):\n",
    "        fs = 128\n",
    "        t = 3\n",
    "        # t is the duration of the signal, this value must be same is record.py and stimuli/cues.py as well\n",
    "\n",
    "        # N = fs * t\n",
    "\n",
    "        win_length = 4*fs\n",
    "        # window length is normally 2/Lowest freq of interest which is 0.5 in our case thus the window length is 4 seconds\n",
    "\n",
    "        data = pd.read_csv(self.filename)\n",
    "        data.to_csv('data1.csv', header = False)\n",
    "        data = pd.read_csv(\"data1.csv\")\n",
    "        # getting rid of garbage headers\n",
    "\n",
    "        arr = range(self.readings)\n",
    "        feature = pd.DataFrame(arr, columns=['Redundant'])\n",
    "        feature.to_csv('feature.csv')\n",
    "        \n",
    "\n",
    "        for i in self.channels:\n",
    "\n",
    "            indices = np.linspace(0, data[i].size, self.readings, dtype=int)\n",
    "            k=0\n",
    "            for j in range(self.readings) :\n",
    "                freqs, psd = signal.welch(data[i].iloc[indices[k] : indices[k+1]], fs,)\n",
    "                # nperseg=win_length\n",
    "\n",
    "                \"\"\"\n",
    "                plt.plot(freqs, psd, color='k', lw=2)\n",
    "                plt.xlabel('Frequency')\n",
    "                plt.ylabel('Power spectral density')\n",
    "                plt.title(\"Welch's periodogram\")\n",
    "                \"\"\"\n",
    "\n",
    "                # delta band \n",
    "                low = 0.5\n",
    "                high = 4\n",
    "                delta = np.logical_and(freqs >= low, freqs <= high)\n",
    "                freq_res = freqs[1] - freqs[0] \n",
    "                delta_power = simps(psd[delta], dx=freq_res)\n",
    "\n",
    "                total_power = simps(psd, dx=freq_res)\n",
    "\n",
    "                delta_rel_power = delta_power / total_power\n",
    "                self.delta_values.append(delta_rel_power)\n",
    "\n",
    "                # print('relative delta power = %.3f '% delta_rel_power)\n",
    "\n",
    "                # theta band \n",
    "                low = 4\n",
    "                high = 8\n",
    "                theta = np.logical_and(freqs >= low, freqs <= high)\n",
    "                freq_res = freqs[1] - freqs[0] \n",
    "                theta_power = simps(psd[theta], dx=freq_res)\n",
    "                theta_rel_power = theta_power / total_power\n",
    "                # print('relative theta power = %.3f '% theta_rel_power)\n",
    "                self.theta_values.append(theta_rel_power)\n",
    "\n",
    "                # alpha band \n",
    "                low = 8\n",
    "                high = 12\n",
    "                alpha = np.logical_and(freqs >= low, freqs <= high)\n",
    "                freq_res = freqs[1] - freqs[0] \n",
    "                alpha_power = simps(psd[alpha], dx=freq_res)\n",
    "                alpha_rel_power = alpha_power / total_power\n",
    "                # print('relative alpha power = %.3f '% alpha_rel_power)\n",
    "                self.alpha_values.append(alpha_rel_power)\n",
    "\n",
    "                # beta band \n",
    "                low = 12\n",
    "                high = 30\n",
    "                beta = np.logical_and(freqs >= low, freqs <= high)\n",
    "                freq_res = freqs[1] - freqs[0] \n",
    "                beta_power = simps(psd[beta], dx=freq_res)\n",
    "                beta_rel_power = beta_power / total_power\n",
    "                # print('relative beta power = %.3f '% beta_rel_power)\n",
    "                self.beta_values.append(beta_rel_power)\n",
    "                k=k+1\n",
    "\n",
    "            self.save_to_file(i, self.feature)\n",
    "            self.delta_values = []\n",
    "            self.theta_values = []\n",
    "            self.alpha_values = []\n",
    "            self.beta_values = []\n",
    "\n",
    "        \n",
    "\n",
    "        self.feature = self.feature.drop('Redundant', axis=1)\n",
    "        self.feature.to_csv('feature.csv')\n",
    "\n",
    "    def wavelet(self, channel):\n",
    "        data = pd.read_csv(self.filename)\n",
    "        sig = data[channel]\n",
    "        dec=pywt.wavedec(sig, wavelet = 'db4', level=4)\n",
    "\n",
    "    def save_to_file(self, channel, feature):\n",
    "        feature[channel+'delta'] = self.delta_values\n",
    "        feature[channel+'theta'] = self.theta_values\n",
    "        feature[channel+'alpha'] = self.alpha_values\n",
    "        feature[channel+'beta'] = self.beta_values"
   ]
  },
  {
   "cell_type": "code",
   "execution_count": 3,
   "metadata": {},
   "outputs": [],
   "source": [
    "channels = ['EEG.AF3','EEG.F7','EEG.F3','EEG.FC5','EEG.T7','EEG.P7','EEG.O1','EEG.O2','EEG.P8','EEG.T8','EEG.FC6','EEG.F4','EEG.F8','EEG.AF4']"
   ]
  },
  {
   "cell_type": "code",
   "execution_count": 4,
   "metadata": {},
   "outputs": [],
   "source": [
    "obj = Feature(channels)"
   ]
  },
  {
   "cell_type": "code",
   "execution_count": 5,
   "metadata": {},
   "outputs": [
    {
     "name": "stdout",
     "output_type": "stream",
     "text": [
      "relative delta power = 0.373 \n",
      "relative theta power = 0.164 \n",
      "relative alpha power = 0.149 \n",
      "relative beta power = 0.172 \n",
      "relative delta power = 0.410 \n",
      "relative theta power = 0.133 \n",
      "relative alpha power = 0.165 \n",
      "relative beta power = 0.178 \n",
      "relative delta power = 0.356 \n",
      "relative theta power = 0.118 \n",
      "relative alpha power = 0.218 \n",
      "relative beta power = 0.140 \n",
      "relative delta power = 0.429 \n",
      "relative theta power = 0.127 \n",
      "relative alpha power = 0.157 \n",
      "relative beta power = 0.192 \n",
      "relative delta power = 0.211 \n",
      "relative theta power = 0.196 \n",
      "relative alpha power = 0.147 \n",
      "relative beta power = 0.198 \n",
      "relative delta power = 0.254 \n",
      "relative theta power = 0.165 \n",
      "relative alpha power = 0.197 \n",
      "relative beta power = 0.249 \n",
      "relative delta power = 0.253 \n",
      "relative theta power = 0.083 \n",
      "relative alpha power = 0.353 \n",
      "relative beta power = 0.215 \n",
      "relative delta power = 0.191 \n",
      "relative theta power = 0.061 \n",
      "relative alpha power = 0.464 \n",
      "relative beta power = 0.117 \n",
      "relative delta power = 0.106 \n",
      "relative theta power = 0.072 \n",
      "relative alpha power = 0.534 \n",
      "relative beta power = 0.156 \n",
      "relative delta power = 0.108 \n",
      "relative theta power = 0.172 \n",
      "relative alpha power = 0.390 \n",
      "relative beta power = 0.198 \n",
      "relative delta power = 0.382 \n",
      "relative theta power = 0.142 \n",
      "relative alpha power = 0.186 \n",
      "relative beta power = 0.140 \n",
      "relative delta power = 0.368 \n",
      "relative theta power = 0.121 \n",
      "relative alpha power = 0.243 \n",
      "relative beta power = 0.136 \n",
      "relative delta power = 0.397 \n",
      "relative theta power = 0.133 \n",
      "relative alpha power = 0.111 \n",
      "relative beta power = 0.178 \n",
      "relative delta power = 0.305 \n",
      "relative theta power = 0.132 \n",
      "relative alpha power = 0.143 \n",
      "relative beta power = 0.138 \n"
     ]
    }
   ],
   "source": [
    "obj.relative_psd()"
   ]
  },
  {
   "cell_type": "code",
   "execution_count": 10,
   "metadata": {},
   "outputs": [],
   "source": [
    "data = pd.read_csv('data.csv')\n",
    "data.to_csv('data1.csv', header = False)\n",
    "data = pd.read_csv(\"data1.csv\")"
   ]
  },
  {
   "cell_type": "code",
   "execution_count": 26,
   "metadata": {},
   "outputs": [
    {
     "data": {
      "text/plain": [
       "1    4223.461426\n",
       "2    4228.846191\n",
       "3    4220.384766\n",
       "Name: EEG.AF3, dtype: float64"
      ]
     },
     "execution_count": 26,
     "metadata": {},
     "output_type": "execute_result"
    }
   ],
   "source": [
    "data['EEG.AF3'].iloc[1:4]"
   ]
  },
  {
   "cell_type": "code",
   "execution_count": 22,
   "metadata": {},
   "outputs": [],
   "source": [
    "indices = np.linspace(0, data['EEG.AF3'].size, 5,dtype=int)"
   ]
  },
  {
   "cell_type": "code",
   "execution_count": 24,
   "metadata": {},
   "outputs": [
    {
     "data": {
      "text/plain": [
       "162"
      ]
     },
     "execution_count": 24,
     "metadata": {},
     "output_type": "execute_result"
    }
   ],
   "source": [
    "indices[1]"
   ]
  },
  {
   "cell_type": "code",
   "execution_count": 27,
   "metadata": {},
   "outputs": [
    {
     "data": {
      "text/plain": [
       "0      4218.717773\n",
       "1      4223.461426\n",
       "2      4228.846191\n",
       "3      4220.384766\n",
       "4      4205.128418\n",
       "          ...     \n",
       "157    4180.512695\n",
       "158    4178.717773\n",
       "159    4187.307617\n",
       "160    4189.743652\n",
       "161    4187.051270\n",
       "Name: EEG.AF3, Length: 162, dtype: float64"
      ]
     },
     "execution_count": 27,
     "metadata": {},
     "output_type": "execute_result"
    }
   ],
   "source": [
    "data['EEG.AF3'].iloc[indices[0] : indices[1]]"
   ]
  },
  {
   "cell_type": "code",
   "execution_count": 28,
   "metadata": {},
   "outputs": [],
   "source": [
    " df = pd.read_csv(r\"C:/Users/KHALS/OneDrive/Desktop/professorX/prototype/sequence.csv\")\n"
   ]
  },
  {
   "cell_type": "code",
   "execution_count": 31,
   "metadata": {},
   "outputs": [],
   "source": [
    "markers = df[\"Sequence\"].to_numpy()\n"
   ]
  },
  {
   "cell_type": "code",
   "execution_count": 32,
   "metadata": {},
   "outputs": [],
   "source": [
    "name = 'EEG.AF3'"
   ]
  },
  {
   "cell_type": "code",
   "execution_count": 35,
   "metadata": {},
   "outputs": [
    {
     "ename": "NameError",
     "evalue": "name 'df1' is not defined",
     "output_type": "error",
     "traceback": [
      "\u001b[1;31m---------------------------------------------------------------------------\u001b[0m",
      "\u001b[1;31mNameError\u001b[0m                                 Traceback (most recent call last)",
      "\u001b[1;32m<ipython-input-35-2544c8b25df4>\u001b[0m in \u001b[0;36m<module>\u001b[1;34m\u001b[0m\n\u001b[1;32m----> 1\u001b[1;33m df1.columns = pd.MultiIndex.from_tuples([(name, 'delta'), (name, 'theta'),\n\u001b[0m\u001b[0;32m      2\u001b[0m                                         (name, 'alpha'), (name, 'beta')])\n",
      "\u001b[1;31mNameError\u001b[0m: name 'df1' is not defined"
     ]
    }
   ],
   "source": []
  },
  {
   "cell_type": "code",
   "execution_count": 36,
   "metadata": {},
   "outputs": [],
   "source": [
    "arr = range(5)\n",
    "df = pd.DataFrame(arr, columns=['Redundant'])\n",
    "df.to_csv('feature.csv')"
   ]
  },
  {
   "cell_type": "code",
   "execution_count": 1,
   "metadata": {},
   "outputs": [
    {
     "ename": "SyntaxError",
     "evalue": "invalid syntax (<ipython-input-1-bb1f4eb13d59>, line 1)",
     "output_type": "error",
     "traceback": [
      "\u001b[1;36m  File \u001b[1;32m\"<ipython-input-1-bb1f4eb13d59>\"\u001b[1;36m, line \u001b[1;32m1\u001b[0m\n\u001b[1;33m    df.drop[]\u001b[0m\n\u001b[1;37m            ^\u001b[0m\n\u001b[1;31mSyntaxError\u001b[0m\u001b[1;31m:\u001b[0m invalid syntax\n"
     ]
    }
   ],
   "source": [
    "df.drop[]"
   ]
  },
  {
   "cell_type": "code",
   "execution_count": 6,
   "metadata": {},
   "outputs": [
    {
     "ename": "NameError",
     "evalue": "name 'self' is not defined",
     "output_type": "error",
     "traceback": [
      "\u001b[1;31m---------------------------------------------------------------------------\u001b[0m",
      "\u001b[1;31mNameError\u001b[0m                                 Traceback (most recent call last)",
      "\u001b[1;32m<ipython-input-6-03812d039efe>\u001b[0m in \u001b[0;36m<module>\u001b[1;34m\u001b[0m\n\u001b[0;32m     18\u001b[0m \u001b[1;33m\u001b[0m\u001b[0m\n\u001b[0;32m     19\u001b[0m \u001b[1;33m\u001b[0m\u001b[0m\n\u001b[1;32m---> 20\u001b[1;33m \u001b[1;32mfor\u001b[0m \u001b[0mi\u001b[0m \u001b[1;32min\u001b[0m \u001b[0mself\u001b[0m\u001b[1;33m.\u001b[0m\u001b[0mchannels\u001b[0m\u001b[1;33m:\u001b[0m\u001b[1;33m\u001b[0m\u001b[1;33m\u001b[0m\u001b[0m\n\u001b[0m\u001b[0;32m     21\u001b[0m \u001b[1;33m\u001b[0m\u001b[0m\n\u001b[0;32m     22\u001b[0m     \u001b[0mindices\u001b[0m \u001b[1;33m=\u001b[0m \u001b[0mnp\u001b[0m\u001b[1;33m.\u001b[0m\u001b[0mlinspace\u001b[0m\u001b[1;33m(\u001b[0m\u001b[1;36m0\u001b[0m\u001b[1;33m,\u001b[0m \u001b[0mdata\u001b[0m\u001b[1;33m[\u001b[0m\u001b[0mi\u001b[0m\u001b[1;33m]\u001b[0m\u001b[1;33m.\u001b[0m\u001b[0msize\u001b[0m\u001b[1;33m,\u001b[0m\u001b[1;36m5\u001b[0m\u001b[1;33m,\u001b[0m \u001b[0mdtype\u001b[0m\u001b[1;33m=\u001b[0m\u001b[0mint\u001b[0m\u001b[1;33m)\u001b[0m\u001b[1;33m\u001b[0m\u001b[1;33m\u001b[0m\u001b[0m\n",
      "\u001b[1;31mNameError\u001b[0m: name 'self' is not defined"
     ]
    }
   ],
   "source": [
    "        fs = 128\n",
    "        t = 3\n",
    "        # t is the duration of the signal, this value must be same is record.py and stimuli/cues.py as well\n",
    "\n",
    "        # N = fs * t\n",
    "\n",
    "        win_length = 4*fs\n",
    "        # window length is normally 2/Lowest freq of interest which is 0.5 in our case thus the window length is 4 seconds\n",
    "\n",
    "        data = pd.read_csv('data.csv')\n",
    "        data.to_csv('data1.csv', header = False)\n",
    "        data = pd.read_csv(\"data1.csv\")\n",
    "        # getting rid of garbage headers\n",
    "\n",
    "        arr = range(5)\n",
    "        feature = pd.DataFrame(arr, columns=['Redundant'])\n",
    "        feature.to_csv('feature.csv')\n",
    "        \n",
    "\n",
    "        for i in self.channels:\n",
    "\n",
    "            indices = np.linspace(0, data[i].size,5, dtype=int)\n",
    "            k=0\n",
    "            for j in range(self.readings) :\n",
    "                freqs, psd = signal.welch(data[i].iloc[indices[k] : indices[k+1]], fs,)\n",
    "                # nperseg=win_length\n",
    "\n",
    "                \"\"\"\n",
    "                plt.plot(freqs, psd, color='k', lw=2)\n",
    "                plt.xlabel('Frequency')\n",
    "                plt.ylabel('Power spectral density')\n",
    "                plt.title(\"Welch's periodogram\")\n",
    "                \"\"\"\n",
    "\n",
    "                # delta band \n",
    "                low = 0.5\n",
    "                high = 4\n",
    "                delta = np.logical_and(freqs >= low, freqs <= high)\n",
    "                freq_res = freqs[1] - freqs[0] \n",
    "                delta_power = simps(psd[delta], dx=freq_res)\n",
    "\n",
    "                total_power = simps(psd, dx=freq_res)\n",
    "\n",
    "                delta_rel_power = delta_power / total_power\n",
    "                self.delta_values.append(delta_rel_power)\n",
    "\n",
    "                # print('relative delta power = %.3f '% delta_rel_power)\n",
    "\n",
    "                # theta band \n",
    "                low = 4\n",
    "                high = 8\n",
    "                theta = np.logical_and(freqs >= low, freqs <= high)\n",
    "                freq_res = freqs[1] - freqs[0] \n",
    "                theta_power = simps(psd[theta], dx=freq_res)\n",
    "                theta_rel_power = theta_power / total_power\n",
    "                # print('relative theta power = %.3f '% theta_rel_power)\n",
    "                self.theta_values.append(theta_rel_power)\n",
    "\n",
    "                # alpha band \n",
    "                low = 8\n",
    "                high = 12\n",
    "                alpha = np.logical_and(freqs >= low, freqs <= high)\n",
    "                freq_res = freqs[1] - freqs[0] \n",
    "                alpha_power = simps(psd[alpha], dx=freq_res)\n",
    "                alpha_rel_power = alpha_power / total_power\n",
    "                # print('relative alpha power = %.3f '% alpha_rel_power)\n",
    "                self.alpha_values.append(alpha_rel_power)\n",
    "\n",
    "                # beta band \n",
    "                low = 12\n",
    "                high = 30\n",
    "                beta = np.logical_and(freqs >= low, freqs <= high)\n",
    "                freq_res = freqs[1] - freqs[0] \n",
    "                beta_power = simps(psd[beta], dx=freq_res)\n",
    "                beta_rel_power = beta_power / total_power\n",
    "                # print('relative beta power = %.3f '% beta_rel_power)\n",
    "                self.beta_values.append(beta_rel_power)\n",
    "                k=k+1\n",
    "\n",
    "            \n",
    "            delta_values = []\n",
    "            theta_values = []\n",
    "            alpha_values = []\n",
    "            beta_values = []\n",
    "\n",
    "        \n",
    "\n",
    "        self.feature = self.feature.drop('Redundant', axis=1)\n",
    "        self.feature.to_csv('feature.csv')\n"
   ]
  },
  {
   "cell_type": "code",
   "execution_count": 26,
   "metadata": {},
   "outputs": [],
   "source": [
    "indices = np.linspace(0, data['EEG.AF3'].size, 6, dtype=int)"
   ]
  },
  {
   "cell_type": "code",
   "execution_count": 27,
   "metadata": {},
   "outputs": [
    {
     "data": {
      "text/plain": [
       "0      4218.717773\n",
       "1      4223.461426\n",
       "2      4228.846191\n",
       "3      4220.384766\n",
       "4      4205.128418\n",
       "          ...     \n",
       "644    4179.102539\n",
       "645    4173.461426\n",
       "646    4174.230957\n",
       "647    4177.051270\n",
       "648    4180.769043\n",
       "Name: EEG.AF3, Length: 649, dtype: float64"
      ]
     },
     "execution_count": 27,
     "metadata": {},
     "output_type": "execute_result"
    }
   ],
   "source": [
    "data['EEG.AF3']"
   ]
  },
  {
   "cell_type": "code",
   "execution_count": 30,
   "metadata": {},
   "outputs": [
    {
     "data": {
      "text/plain": [
       "519    4177.436035\n",
       "520    4179.358887\n",
       "521    4184.358887\n",
       "522    4193.205078\n",
       "523    4199.358887\n",
       "          ...     \n",
       "644    4179.102539\n",
       "645    4173.461426\n",
       "646    4174.230957\n",
       "647    4177.051270\n",
       "648    4180.769043\n",
       "Name: EEG.AF3, Length: 130, dtype: float64"
      ]
     },
     "execution_count": 30,
     "metadata": {},
     "output_type": "execute_result"
    }
   ],
   "source": [
    "data['EEG.AF3'].iloc[indices[4] : indices[5]]"
   ]
  },
  {
   "cell_type": "code",
   "execution_count": 25,
   "metadata": {},
   "outputs": [
    {
     "name": "stdout",
     "output_type": "stream",
     "text": [
      "0\n",
      "1\n",
      "2\n",
      "3\n",
      "4\n"
     ]
    }
   ],
   "source": [
    "for i in range(5):\n",
    "    print(i)"
   ]
  },
  {
   "cell_type": "code",
   "execution_count": null,
   "metadata": {},
   "outputs": [],
   "source": []
  }
 ],
 "metadata": {
  "kernelspec": {
   "display_name": "Python 3",
   "language": "python",
   "name": "python3"
  },
  "language_info": {
   "codemirror_mode": {
    "name": "ipython",
    "version": 3
   },
   "file_extension": ".py",
   "mimetype": "text/x-python",
   "name": "python",
   "nbconvert_exporter": "python",
   "pygments_lexer": "ipython3",
   "version": "3.8.5"
  }
 },
 "nbformat": 4,
 "nbformat_minor": 4
}
