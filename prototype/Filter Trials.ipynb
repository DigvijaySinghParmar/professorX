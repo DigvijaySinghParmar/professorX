{
 "cells": [
  {
   "cell_type": "code",
   "execution_count": 6,
   "metadata": {},
   "outputs": [],
   "source": [
    "import numpy as np\n",
    "import pandas as pd\n",
    "from scipy import signal\n",
    "import matplotlib.pyplot as plt\n",
    "%matplotlib inline"
   ]
  },
  {
   "cell_type": "code",
   "execution_count": 18,
   "metadata": {},
   "outputs": [],
   "source": [
    "def bandpass_coeff(low, high, fs, order):\n",
    "        \"\"\"\n",
    "        Function to calculate filter coefficients\n",
    "        \"\"\"\n",
    "        nyq = 0.5*fs\n",
    "        low = low / nyq\n",
    "        high = high / nyq\n",
    "        sos = signal.butter(order, [low, high], btype='bandpass', output='sos')\n",
    "        return sos"
   ]
  },
  {
   "cell_type": "code",
   "execution_count": 3,
   "metadata": {},
   "outputs": [],
   "source": [
    "data = pd.read_csv('data.csv')\n",
    "data.to_csv('data1.csv', header = False)\n",
    "data = pd.read_csv(\"data1.csv\")"
   ]
  },
  {
   "cell_type": "code",
   "execution_count": 4,
   "metadata": {},
   "outputs": [
    {
     "data": {
      "text/html": [
       "<div>\n",
       "<style scoped>\n",
       "    .dataframe tbody tr th:only-of-type {\n",
       "        vertical-align: middle;\n",
       "    }\n",
       "\n",
       "    .dataframe tbody tr th {\n",
       "        vertical-align: top;\n",
       "    }\n",
       "\n",
       "    .dataframe thead th {\n",
       "        text-align: right;\n",
       "    }\n",
       "</style>\n",
       "<table border=\"1\" class=\"dataframe\">\n",
       "  <thead>\n",
       "    <tr style=\"text-align: right;\">\n",
       "      <th></th>\n",
       "      <th>Timestamp</th>\n",
       "      <th>EEG.Counter</th>\n",
       "      <th>EEG.Interpolated</th>\n",
       "      <th>EEG.AF3</th>\n",
       "      <th>EEG.F7</th>\n",
       "      <th>EEG.F3</th>\n",
       "      <th>EEG.FC5</th>\n",
       "      <th>EEG.T7</th>\n",
       "      <th>EEG.P7</th>\n",
       "      <th>EEG.O1</th>\n",
       "      <th>...</th>\n",
       "      <th>EQ.T7</th>\n",
       "      <th>EQ.P7</th>\n",
       "      <th>EQ.O1</th>\n",
       "      <th>EQ.O2</th>\n",
       "      <th>EQ.P8</th>\n",
       "      <th>EQ.T8</th>\n",
       "      <th>EQ.FC6</th>\n",
       "      <th>EQ.F4</th>\n",
       "      <th>EQ.F8</th>\n",
       "      <th>EQ.AF4</th>\n",
       "    </tr>\n",
       "  </thead>\n",
       "  <tbody>\n",
       "    <tr>\n",
       "      <th>0</th>\n",
       "      <td>1.638428e+09</td>\n",
       "      <td>85.0</td>\n",
       "      <td>0.0</td>\n",
       "      <td>4218.717773</td>\n",
       "      <td>4304.743652</td>\n",
       "      <td>4117.692383</td>\n",
       "      <td>4174.487305</td>\n",
       "      <td>4272.436035</td>\n",
       "      <td>4294.487305</td>\n",
       "      <td>4284.871582</td>\n",
       "      <td>...</td>\n",
       "      <td>NaN</td>\n",
       "      <td>NaN</td>\n",
       "      <td>NaN</td>\n",
       "      <td>NaN</td>\n",
       "      <td>NaN</td>\n",
       "      <td>NaN</td>\n",
       "      <td>NaN</td>\n",
       "      <td>NaN</td>\n",
       "      <td>NaN</td>\n",
       "      <td>NaN</td>\n",
       "    </tr>\n",
       "    <tr>\n",
       "      <th>1</th>\n",
       "      <td>1.638428e+09</td>\n",
       "      <td>86.0</td>\n",
       "      <td>0.0</td>\n",
       "      <td>4223.461426</td>\n",
       "      <td>4318.205078</td>\n",
       "      <td>4125.384766</td>\n",
       "      <td>4169.743652</td>\n",
       "      <td>4271.282227</td>\n",
       "      <td>4292.563965</td>\n",
       "      <td>4292.563965</td>\n",
       "      <td>...</td>\n",
       "      <td>NaN</td>\n",
       "      <td>NaN</td>\n",
       "      <td>NaN</td>\n",
       "      <td>NaN</td>\n",
       "      <td>NaN</td>\n",
       "      <td>NaN</td>\n",
       "      <td>NaN</td>\n",
       "      <td>NaN</td>\n",
       "      <td>NaN</td>\n",
       "      <td>NaN</td>\n",
       "    </tr>\n",
       "    <tr>\n",
       "      <th>2</th>\n",
       "      <td>1.638428e+09</td>\n",
       "      <td>87.0</td>\n",
       "      <td>0.0</td>\n",
       "      <td>4228.846191</td>\n",
       "      <td>4323.589844</td>\n",
       "      <td>4137.948730</td>\n",
       "      <td>4180.128418</td>\n",
       "      <td>4275.256348</td>\n",
       "      <td>4302.692383</td>\n",
       "      <td>4309.358887</td>\n",
       "      <td>...</td>\n",
       "      <td>NaN</td>\n",
       "      <td>NaN</td>\n",
       "      <td>NaN</td>\n",
       "      <td>NaN</td>\n",
       "      <td>NaN</td>\n",
       "      <td>NaN</td>\n",
       "      <td>NaN</td>\n",
       "      <td>NaN</td>\n",
       "      <td>NaN</td>\n",
       "      <td>NaN</td>\n",
       "    </tr>\n",
       "    <tr>\n",
       "      <th>3</th>\n",
       "      <td>1.638428e+09</td>\n",
       "      <td>88.0</td>\n",
       "      <td>0.0</td>\n",
       "      <td>4220.384766</td>\n",
       "      <td>4309.230957</td>\n",
       "      <td>4125.384766</td>\n",
       "      <td>4187.179688</td>\n",
       "      <td>4281.666504</td>\n",
       "      <td>4304.230957</td>\n",
       "      <td>4304.358887</td>\n",
       "      <td>...</td>\n",
       "      <td>NaN</td>\n",
       "      <td>NaN</td>\n",
       "      <td>NaN</td>\n",
       "      <td>NaN</td>\n",
       "      <td>NaN</td>\n",
       "      <td>NaN</td>\n",
       "      <td>NaN</td>\n",
       "      <td>NaN</td>\n",
       "      <td>NaN</td>\n",
       "      <td>NaN</td>\n",
       "    </tr>\n",
       "    <tr>\n",
       "      <th>4</th>\n",
       "      <td>1.638428e+09</td>\n",
       "      <td>89.0</td>\n",
       "      <td>0.0</td>\n",
       "      <td>4205.128418</td>\n",
       "      <td>4300.897461</td>\n",
       "      <td>4101.153809</td>\n",
       "      <td>4162.307617</td>\n",
       "      <td>4272.948730</td>\n",
       "      <td>4287.692383</td>\n",
       "      <td>4283.205078</td>\n",
       "      <td>...</td>\n",
       "      <td>NaN</td>\n",
       "      <td>NaN</td>\n",
       "      <td>NaN</td>\n",
       "      <td>NaN</td>\n",
       "      <td>NaN</td>\n",
       "      <td>NaN</td>\n",
       "      <td>NaN</td>\n",
       "      <td>NaN</td>\n",
       "      <td>NaN</td>\n",
       "      <td>NaN</td>\n",
       "    </tr>\n",
       "  </tbody>\n",
       "</table>\n",
       "<p>5 rows × 55 columns</p>\n",
       "</div>"
      ],
      "text/plain": [
       "      Timestamp  EEG.Counter  EEG.Interpolated      EEG.AF3       EEG.F7  \\\n",
       "0  1.638428e+09         85.0               0.0  4218.717773  4304.743652   \n",
       "1  1.638428e+09         86.0               0.0  4223.461426  4318.205078   \n",
       "2  1.638428e+09         87.0               0.0  4228.846191  4323.589844   \n",
       "3  1.638428e+09         88.0               0.0  4220.384766  4309.230957   \n",
       "4  1.638428e+09         89.0               0.0  4205.128418  4300.897461   \n",
       "\n",
       "        EEG.F3      EEG.FC5       EEG.T7       EEG.P7       EEG.O1  ...  \\\n",
       "0  4117.692383  4174.487305  4272.436035  4294.487305  4284.871582  ...   \n",
       "1  4125.384766  4169.743652  4271.282227  4292.563965  4292.563965  ...   \n",
       "2  4137.948730  4180.128418  4275.256348  4302.692383  4309.358887  ...   \n",
       "3  4125.384766  4187.179688  4281.666504  4304.230957  4304.358887  ...   \n",
       "4  4101.153809  4162.307617  4272.948730  4287.692383  4283.205078  ...   \n",
       "\n",
       "   EQ.T7  EQ.P7  EQ.O1  EQ.O2  EQ.P8  EQ.T8  EQ.FC6  EQ.F4  EQ.F8  EQ.AF4  \n",
       "0    NaN    NaN    NaN    NaN    NaN    NaN     NaN    NaN    NaN     NaN  \n",
       "1    NaN    NaN    NaN    NaN    NaN    NaN     NaN    NaN    NaN     NaN  \n",
       "2    NaN    NaN    NaN    NaN    NaN    NaN     NaN    NaN    NaN     NaN  \n",
       "3    NaN    NaN    NaN    NaN    NaN    NaN     NaN    NaN    NaN     NaN  \n",
       "4    NaN    NaN    NaN    NaN    NaN    NaN     NaN    NaN    NaN     NaN  \n",
       "\n",
       "[5 rows x 55 columns]"
      ]
     },
     "execution_count": 4,
     "metadata": {},
     "output_type": "execute_result"
    }
   ],
   "source": [
    "data.head()"
   ]
  },
  {
   "cell_type": "code",
   "execution_count": 19,
   "metadata": {},
   "outputs": [],
   "source": [
    "def highpass_coeff(low, fs, order):\n",
    "        \"\"\"\n",
    "        Function to calculate filter coefficients\n",
    "        \"\"\"\n",
    "        nyq = 0.5*fs\n",
    "        low = low / nyq\n",
    "        sos = signal.butter(order, low, btype='highpass', output='sos')\n",
    "        return sos"
   ]
  },
  {
   "cell_type": "code",
   "execution_count": 12,
   "metadata": {},
   "outputs": [
    {
     "data": {
      "text/plain": [
       "[<matplotlib.lines.Line2D at 0x225cc1e79d0>]"
      ]
     },
     "execution_count": 12,
     "metadata": {},
     "output_type": "execute_result"
    },
    {
     "data": {
      "image/png": "[encoded data removed]",
      "text/plain": [
       "<Figure size 432x288 with 1 Axes>"
      ]
     },
     "metadata": {
      "needs_background": "light"
     },
     "output_type": "display_data"
    }
   ],
   "source": [
    "t = np.linspace(0, 1, 1000, False)\n",
    "sig = np.sin(2*np.pi*10*t) + np.sin(2*np.pi*20*t)\n",
    "plt.plot(t,sig)"
   ]
  },
  {
   "cell_type": "code",
   "execution_count": 13,
   "metadata": {},
   "outputs": [],
   "source": [
    "sos = signal.butter(3, 15, 'hp', fs=1000, output='sos')"
   ]
  },
  {
   "cell_type": "code",
   "execution_count": 10,
   "metadata": {},
   "outputs": [
    {
     "data": {
      "text/plain": [
       "array([[ 0.91002543, -0.91002543,  0.        ,  1.        , -0.90992999,\n",
       "         0.        ],\n",
       "       [ 1.        , -2.        ,  1.        ,  1.        , -1.90164369,\n",
       "         0.91012087]])"
      ]
     },
     "execution_count": 10,
     "metadata": {},
     "output_type": "execute_result"
    }
   ],
   "source": [
    "sos"
   ]
  },
  {
   "cell_type": "code",
   "execution_count": 14,
   "metadata": {},
   "outputs": [],
   "source": [
    "filtered = signal.sosfilt(sos, sig)"
   ]
  },
  {
   "cell_type": "code",
   "execution_count": 15,
   "metadata": {},
   "outputs": [
    {
     "data": {
      "text/plain": [
       "[<matplotlib.lines.Line2D at 0x225cc247430>]"
      ]
     },
     "execution_count": 15,
     "metadata": {},
     "output_type": "execute_result"
    },
    {
     "data": {
      "image/png": "[encoded data removed]",
      "text/plain": [
       "<Figure size 432x288 with 1 Axes>"
      ]
     },
     "metadata": {
      "needs_background": "light"
     },
     "output_type": "display_data"
    }
   ],
   "source": [
    "plt.plot(filtered)"
   ]
  },
  {
   "cell_type": "code",
   "execution_count": 17,
   "metadata": {},
   "outputs": [
    {
     "data": {
      "text/plain": [
       "[<matplotlib.lines.Line2D at 0x225cc29f730>]"
      ]
     },
     "execution_count": 17,
     "metadata": {},
     "output_type": "execute_result"
    },
    {
     "data": {
      "image/png": "[encoded data removed]",
      "text/plain": [
       "<Figure size 432x288 with 1 Axes>"
      ]
     },
     "metadata": {
      "needs_background": "light"
     },
     "output_type": "display_data"
    }
   ],
   "source": [
    "plt.plot(data['EEG.AF3'])"
   ]
  },
  {
   "cell_type": "code",
   "execution_count": 20,
   "metadata": {},
   "outputs": [],
   "source": [
    "sos = bandpass_coeff(12,20,128,4)"
   ]
  },
  {
   "cell_type": "code",
   "execution_count": 21,
   "metadata": {},
   "outputs": [
    {
     "data": {
      "text/plain": [
       "array([[ 9.33498613e-04,  1.86699723e-03,  9.33498613e-04,\n",
       "         1.00000000e+00, -1.10528015e+00,  6.70102919e-01],\n",
       "       [ 1.00000000e+00,  2.00000000e+00,  1.00000000e+00,\n",
       "         1.00000000e+00, -1.32083417e+00,  7.12714773e-01],\n",
       "       [ 1.00000000e+00, -2.00000000e+00,  1.00000000e+00,\n",
       "         1.00000000e+00, -1.04660419e+00,  8.39450507e-01],\n",
       "       [ 1.00000000e+00, -2.00000000e+00,  1.00000000e+00,\n",
       "         1.00000000e+00, -1.55730594e+00,  8.86914513e-01]])"
      ]
     },
     "execution_count": 21,
     "metadata": {},
     "output_type": "execute_result"
    }
   ],
   "source": [
    "sos"
   ]
  },
  {
   "cell_type": "code",
   "execution_count": 27,
   "metadata": {},
   "outputs": [],
   "source": [
    "filtered = signal.sosfilt(sos, data['EEG.AF3'])"
   ]
  },
  {
   "cell_type": "code",
   "execution_count": 28,
   "metadata": {},
   "outputs": [
    {
     "data": {
      "text/plain": [
       "[<matplotlib.lines.Line2D at 0x225cc3b2cd0>]"
      ]
     },
     "execution_count": 28,
     "metadata": {},
     "output_type": "execute_result"
    },
    {
     "data": {
      "image/png": "[encoded data removed]",
      "text/plain": [
       "<Figure size 432x288 with 1 Axes>"
      ]
     },
     "metadata": {
      "needs_background": "light"
     },
     "output_type": "display_data"
    }
   ],
   "source": [
    "plt.plot(filtered)"
   ]
  },
  {
   "cell_type": "code",
   "execution_count": 32,
   "metadata": {},
   "outputs": [],
   "source": [
    "str = '25 56'\n",
    "list = str.split()\n",
    "f1 = int(list[0])\n",
    "f2 = int(list[1])"
   ]
  },
  {
   "cell_type": "code",
   "execution_count": 31,
   "metadata": {},
   "outputs": [
    {
     "data": {
      "text/plain": [
       "25"
      ]
     },
     "execution_count": 31,
     "metadata": {},
     "output_type": "execute_result"
    }
   ],
   "source": [
    "f1"
   ]
  },
  {
   "cell_type": "code",
   "execution_count": 33,
   "metadata": {},
   "outputs": [
    {
     "data": {
      "text/plain": [
       "56"
      ]
     },
     "execution_count": 33,
     "metadata": {},
     "output_type": "execute_result"
    }
   ],
   "source": [
    "f2"
   ]
  },
  {
   "cell_type": "code",
   "execution_count": 36,
   "metadata": {},
   "outputs": [
    {
     "data": {
      "text/plain": [
       "(649,)"
      ]
     },
     "execution_count": 36,
     "metadata": {},
     "output_type": "execute_result"
    }
   ],
   "source": [
    "filtered.shape"
   ]
  },
  {
   "cell_type": "code",
   "execution_count": 37,
   "metadata": {},
   "outputs": [
    {
     "data": {
      "text/plain": [
       "array([ 3.93816719e+00,  2.37516726e+01,  5.83750036e+01,  6.11228577e+01,\n",
       "       -3.02824886e+01, -1.98736465e+02, -3.07257372e+02, -1.97946576e+02,\n",
       "        1.42186551e+02,  5.13952463e+02,  6.28327988e+02,  3.35888321e+02,\n",
       "       -2.27855938e+02, -7.13276643e+02, -7.99206507e+02, -4.22047115e+02,\n",
       "        1.81887669e+02,  6.45717655e+02,  7.19137999e+02,  4.13820210e+02,\n",
       "       -4.10397655e+01, -3.76222390e+02, -4.52072669e+02, -3.09005215e+02,\n",
       "       -9.15186534e+01,  7.24019711e+01,  1.42307506e+02,  1.51345022e+02,\n",
       "        1.43846418e+02,  1.28701395e+02,  8.38043930e+01, -4.60806281e+00,\n",
       "       -1.11813660e+02, -1.83267738e+02, -1.73955677e+02, -8.40416169e+01,\n",
       "        3.85834668e+01,  1.29872571e+02,  1.49930769e+02,  1.02891677e+02,\n",
       "        2.59294654e+01, -3.94824187e+01, -7.12295432e+01, -7.11596056e+01,\n",
       "       -5.34825578e+01, -3.02661447e+01, -5.50760676e+00,  2.05329405e+01,\n",
       "        4.40510222e+01,  5.60353485e+01,  4.81660925e+01,  2.06170245e+01,\n",
       "       -1.55317583e+01, -4.37813742e+01, -5.17331272e+01, -3.78815951e+01,\n",
       "       -1.13272511e+01,  1.46067479e+01,  2.99241774e+01,  3.18577303e+01,\n",
       "        2.37152290e+01,  1.09414692e+01, -2.15032234e+00, -1.31580693e+01,\n",
       "       -2.04868921e+01, -2.23097124e+01, -1.71190761e+01, -5.49400432e+00,\n",
       "        8.82962272e+00,  1.99808510e+01,  2.27633433e+01,  1.56793372e+01,\n",
       "        2.19914126e+00, -1.09098234e+01, -1.74088170e+01, -1.51104491e+01,\n",
       "       -6.80530497e+00,  1.96639555e+00,  6.76627821e+00,  6.94658790e+00,\n",
       "        5.11744701e+00,  3.99740124e+00,  3.70061344e+00,  2.12666585e+00,\n",
       "       -2.07591848e+00, -7.21150999e+00, -9.44865421e+00, -6.22146783e+00,\n",
       "        1.06834366e+00,  7.68738600e+00,  9.21241648e+00,  5.05293669e+00,\n",
       "       -1.28222825e+00, -5.33038120e+00, -5.22138601e+00, -2.45709908e+00,\n",
       "        2.53568794e-01,  1.47948608e+00,  1.57781578e+00,  1.44668000e+00,\n",
       "        1.33353515e+00,  8.70575310e-01, -8.70500093e-02, -1.00119490e+00,\n",
       "       -1.16078518e+00, -5.48149674e-01,  4.39380541e-02, -1.68527110e-01,\n",
       "       -1.13501871e+00, -1.91531882e+00, -1.33514297e+00,  1.04765904e+00,\n",
       "        4.20241149e+00,  5.90699356e+00,  4.29559365e+00, -4.72946823e-01,\n",
       "       -5.98951427e+00, -9.07315052e+00, -7.75897175e+00, -2.43621493e+00,\n",
       "        4.39692481e+00,  9.44206702e+00,  1.02333227e+01,  6.34745551e+00,\n",
       "       -3.71252134e-01, -6.74928782e+00, -9.89575499e+00, -8.57371652e+00,\n",
       "       -3.65373370e+00,  2.45687698e+00,  7.00377522e+00,  8.09026234e+00,\n",
       "        5.45801808e+00,  5.92926590e-01, -3.97879512e+00, -5.98076490e+00,\n",
       "       -4.59675117e+00, -9.21998715e-01,  2.66333957e+00,  3.98523804e+00,\n",
       "        2.51858355e+00, -3.34122862e-01, -2.38781528e+00, -2.34339250e+00,\n",
       "       -6.57581449e-01,  1.05150723e+00,  1.45812113e+00,  5.52283802e-01,\n",
       "       -5.28805811e-01, -6.21565940e-01,  3.28194073e-01,  1.18458117e+00,\n",
       "        8.23771992e-01, -5.74891604e-01, -1.63181693e+00, -1.24972269e+00,\n",
       "        1.57035280e-01,  1.09360012e+00,  6.00185900e-01, -7.01559112e-01,\n",
       "       -1.19728047e+00,  5.45187566e-02,  2.17375809e+00,  3.06033506e+00,\n",
       "        1.33534364e+00, -2.18190696e+00, -4.86739858e+00, -4.30350209e+00,\n",
       "       -3.66360646e-01,  4.30595837e+00,  6.12268162e+00,  3.45225878e+00,\n",
       "       -1.78925814e+00, -5.52136623e+00, -4.90188338e+00, -7.02373042e-01,\n",
       "        3.55149908e+00,  4.73026401e+00,  2.50490904e+00, -9.49484378e-01,\n",
       "       -3.14457919e+00, -3.13074167e+00, -1.65846485e+00, -2.48817658e-02,\n",
       "        1.08044492e+00,  1.76444620e+00,  2.26306607e+00,  2.31558711e+00,\n",
       "        1.34433337e+00, -7.07185011e-01, -2.84021938e+00, -3.53680252e+00,\n",
       "       -2.05211188e+00,  6.96432081e-01,  2.62447478e+00,  2.20439389e+00,\n",
       "       -7.58745217e-02, -2.06852677e+00, -1.90941653e+00,  3.37138795e-01,\n",
       "        2.81752435e+00,  3.52261159e+00,  1.88416041e+00, -9.63775520e-01,\n",
       "       -3.26993810e+00, -3.95198801e+00, -2.97935157e+00, -9.20227796e-01,\n",
       "        1.47535478e+00,  3.33974223e+00,  3.86481717e+00,  2.77322787e+00,\n",
       "        5.99961407e-01, -1.60160327e+00, -2.92016568e+00, -3.06088456e+00,\n",
       "       -2.25197905e+00, -8.20584340e-01,  9.23708269e-01,  2.40014578e+00,\n",
       "        2.78277676e+00,  1.73323870e+00,  2.05523379e-02, -9.80657107e-01,\n",
       "       -6.06477987e-01,  3.52086516e-01,  3.84860317e-01, -1.14514665e+00,\n",
       "       -3.15401668e+00, -3.63497541e+00, -1.42033931e+00,  2.58175616e+00,\n",
       "        5.74350930e+00,  5.60062795e+00,  1.90026752e+00, -3.00270577e+00,\n",
       "       -5.89661108e+00, -5.09204568e+00, -1.44579070e+00,  2.54593494e+00,\n",
       "        4.57298247e+00,  3.83293532e+00,  1.16101315e+00, -1.74935968e+00,\n",
       "       -3.37627060e+00, -3.13978281e+00, -1.53734094e+00,  4.32072637e-01,\n",
       "        1.99006421e+00,  2.79113409e+00,  2.69345090e+00,  1.62318837e+00,\n",
       "       -2.39348864e-01, -2.24984583e+00, -3.46789316e+00, -3.20860842e+00,\n",
       "       -1.56336601e+00,  5.85411685e-01,  2.17563496e+00,  2.74558652e+00,\n",
       "        2.66712924e+00,  2.55419386e+00,  2.34723565e+00,  1.06012762e+00,\n",
       "       -2.17688715e+00, -6.51616280e+00, -9.09607307e+00, -6.97569488e+00,\n",
       "        1.21720437e-01,  8.77460288e+00,  1.37291258e+01,  1.14679246e+01,\n",
       "        2.86322094e+00, -7.17109922e+00, -1.29323886e+01, -1.16551087e+01,\n",
       "       -4.93503990e+00,  2.84179427e+00,  7.51256208e+00,  7.51774046e+00,\n",
       "        4.32704169e+00,  8.13936814e-01, -1.07396835e+00, -1.42258536e+00,\n",
       "       -1.53275523e+00, -2.25625416e+00, -3.09574702e+00, -2.78433114e+00,\n",
       "       -7.31363054e-01,  2.05295534e+00,  3.58104936e+00,  2.66597662e+00,\n",
       "        1.64268432e-01, -1.64178862e+00, -1.06804900e+00,  1.33489489e+00,\n",
       "        3.07836242e+00,  1.90757807e+00, -1.99722111e+00, -5.87899025e+00,\n",
       "       -6.55645551e+00, -3.00048375e+00,  2.80958131e+00,  7.33388203e+00,\n",
       "        7.93929868e+00,  4.48835417e+00, -8.76521350e-01, -5.27405852e+00,\n",
       "       -6.74960355e+00, -5.07966948e+00, -1.52541085e+00,  2.02168191e+00,\n",
       "        3.98581027e+00,  3.80911487e+00,  2.13197672e+00,  2.61528812e-01,\n",
       "       -8.07294574e-01, -1.05660575e+00, -1.17749655e+00, -1.60252642e+00,\n",
       "       -1.87682850e+00, -1.16681152e+00,  5.81990958e-01,  2.23027432e+00,\n",
       "        2.43744189e+00,  1.06889448e+00, -5.73112103e-01, -1.03984431e+00,\n",
       "       -2.09086816e-01,  6.21201135e-01,  1.29793846e-01, -1.56331814e+00,\n",
       "       -2.87258604e+00, -2.24368675e+00,  3.10013823e-01,  3.13906037e+00,\n",
       "        4.33688586e+00,  3.22336589e+00,  6.73093501e-01, -1.85004664e+00,\n",
       "       -3.49008915e+00, -4.16754670e+00, -3.77904218e+00, -1.83057297e+00,\n",
       "        1.76380666e+00,  5.73549812e+00,  7.69959830e+00,  5.69523213e+00,\n",
       "       -7.42808591e-02, -6.78995374e+00, -1.05197088e+01, -8.71858045e+00,\n",
       "       -1.94219896e+00,  6.28804139e+00,  1.13486986e+01,  1.02216304e+01,\n",
       "        3.55929652e+00, -4.53109872e+00, -9.27888433e+00, -8.54699113e+00,\n",
       "       -3.86746400e+00,  1.34632938e+00,  4.43290404e+00,  4.78770988e+00,\n",
       "        3.36495335e+00,  1.46772817e+00, -2.46008731e-02, -8.50051200e-01,\n",
       "       -1.28804984e+00, -1.80014203e+00, -2.46102256e+00, -2.71744612e+00,\n",
       "       -1.82328343e+00,  4.01849862e-01,  3.15004309e+00,  4.92212854e+00,\n",
       "        4.43246258e+00,  1.57050890e+00, -2.32241060e+00, -5.21035916e+00,\n",
       "       -5.61289561e+00, -3.39701076e+00,  3.05110369e-01,  3.77491341e+00,\n",
       "        5.49130813e+00,  4.72597817e+00,  1.86875276e+00, -1.68918428e+00,\n",
       "       -4.26287779e+00, -4.79211858e+00, -3.28497557e+00, -5.97751727e-01,\n",
       "        2.08440095e+00,  3.73879273e+00,  3.83817085e+00,  2.45956067e+00,\n",
       "        2.01219501e-01, -2.02931145e+00, -3.35744144e+00, -3.32807317e+00,\n",
       "       -2.08483132e+00, -1.93777494e-01,  1.71190697e+00,  3.15351882e+00,\n",
       "        3.76171615e+00,  3.15942199e+00,  1.11118222e+00, -2.06107331e+00,\n",
       "       -5.21237008e+00, -6.63195434e+00, -4.89902464e+00, -3.81351646e-02,\n",
       "        5.85483854e+00,  9.43144655e+00,  8.19632635e+00,  2.36459583e+00,\n",
       "       -5.03652012e+00, -9.91365244e+00, -9.52269978e+00, -4.07904272e+00,\n",
       "        3.36452277e+00,  8.67824615e+00,  9.03044085e+00,  4.52178674e+00,\n",
       "       -1.93285145e+00, -6.54415701e+00, -7.15332698e+00, -4.37876126e+00,\n",
       "       -5.35088235e-01,  2.50334655e+00,  4.38584591e+00,  5.47516736e+00,\n",
       "        5.45314560e+00,  3.23531036e+00, -1.54728244e+00, -7.17031669e+00,\n",
       "       -1.02915814e+01, -8.25584761e+00, -1.40178270e+00,  6.67722638e+00,\n",
       "        1.13679858e+01,  1.01154775e+01,  4.00924350e+00, -3.19726619e+00,\n",
       "       -7.74162880e+00, -8.11639333e+00, -5.36269592e+00, -1.59105335e+00,\n",
       "        1.68851952e+00,  4.08108090e+00,  5.58591444e+00,  5.69062452e+00,\n",
       "        3.54352555e+00, -7.56241872e-01, -5.32932121e+00, -7.48003252e+00,\n",
       "       -5.73798495e+00, -1.06654968e+00,  3.77610035e+00,  6.15045646e+00,\n",
       "        5.25912541e+00,  2.36955494e+00, -5.35719821e-01, -2.33503688e+00,\n",
       "       -3.15776343e+00, -3.51389919e+00, -3.33701088e+00, -2.04806165e+00,\n",
       "        5.09853139e-01,  3.44101975e+00,  5.22983733e+00,  4.79808987e+00,\n",
       "        2.25541902e+00, -1.17265307e+00, -3.91796311e+00, -4.96016334e+00,\n",
       "       -4.21359106e+00, -2.23832994e+00,  3.03072374e-01,  2.82823564e+00,\n",
       "        4.61624148e+00,  4.82514562e+00,  3.07125485e+00, -2.27653302e-02,\n",
       "       -3.04005190e+00, -4.62890822e+00, -4.26072236e+00, -2.36371771e+00,\n",
       "        1.12894140e-01,  2.24588686e+00,  3.39510049e+00,  3.24072038e+00,\n",
       "        1.86518978e+00, -1.42835333e-01, -1.79252591e+00, -2.15790079e+00,\n",
       "       -1.07603210e+00,  4.94483777e-01,  1.06587528e+00, -8.36508601e-02,\n",
       "       -2.10819177e+00, -3.15572600e+00, -1.83747191e+00,  1.58820622e+00,\n",
       "        5.15856504e+00,  6.37025280e+00,  3.90032620e+00, -1.28574085e+00,\n",
       "       -6.31428754e+00, -8.14512984e+00, -5.57785982e+00, -9.81747874e-02,\n",
       "        5.11524743e+00,  7.26164729e+00,  5.54205010e+00,  1.37240244e+00,\n",
       "       -2.70854555e+00, -4.63012466e+00, -3.87983339e+00, -1.47043847e+00,\n",
       "        9.66313468e-01,  2.17082626e+00,  1.80879997e+00,  4.81916660e-01,\n",
       "       -7.60510368e-01, -1.16159781e+00, -7.05903166e-01,  1.04022293e-01,\n",
       "        8.33313285e-01,  1.37388095e+00,  1.65411507e+00,  1.32143703e+00,\n",
       "       -2.59444638e-03, -2.06755102e+00, -3.76593185e+00, -3.79293549e+00,\n",
       "       -1.69735609e+00,  1.62320114e+00,  4.44117222e+00,  5.30788332e+00,\n",
       "        3.88605985e+00,  9.65780986e-01, -2.18810069e+00, -4.55152555e+00,\n",
       "       -5.56843013e+00, -4.91631616e+00, -2.41226792e+00,  1.58057988e+00,\n",
       "        5.71832636e+00,  7.97888131e+00,  6.80241349e+00,  2.28159757e+00,\n",
       "       -3.56955680e+00, -7.81147356e+00, -8.30628374e+00, -5.04442066e+00,\n",
       "       -8.05607980e-02,  3.91706819e+00,  5.40326935e+00,  4.66887971e+00,\n",
       "        3.09091038e+00,  1.70470854e+00,  4.44051488e-01, -1.30555446e+00,\n",
       "       -3.55663921e+00, -5.25835636e+00, -5.04995409e+00, -2.52587439e+00,\n",
       "        1.21937391e+00,  4.30463810e+00,  5.36810652e+00,  4.33648726e+00,\n",
       "        2.14168934e+00, -1.54172866e-01, -1.97222387e+00, -3.20480346e+00,\n",
       "       -3.85727044e+00, -3.74620315e+00, -2.52757252e+00, -1.25659948e-01,\n",
       "        2.82114859e+00,  5.04949872e+00,  5.34537383e+00,  3.35103074e+00,\n",
       "       -5.89642578e-02, -3.22371129e+00, -4.77860446e+00, -4.48199333e+00,\n",
       "       -2.99301350e+00, -9.65998504e-01,  1.36637429e+00,  3.73622492e+00,\n",
       "        5.36279162e+00,  5.20730635e+00,  2.71250884e+00, -1.58654026e+00,\n",
       "       -5.93625936e+00, -7.98004310e+00, -6.10741220e+00, -7.94933480e-01,\n",
       "        5.21078479e+00,  8.40503654e+00,  6.88476860e+00,  1.74297371e+00,\n",
       "       -3.68259433e+00, -6.13396405e+00, -4.57829238e+00, -6.94188411e-01,\n",
       "        2.52233921e+00,  2.95242107e+00,  7.49918212e-01, -2.00138237e+00,\n",
       "       -2.97492471e+00, -1.30531446e+00,  1.91420273e+00,  4.54551623e+00,\n",
       "        4.85095826e+00,  2.44301685e+00, -1.59890414e+00, -5.26677912e+00,\n",
       "       -6.58586966e+00, -4.67047160e+00, -3.56149600e-01,  4.07207098e+00,\n",
       "        6.15676080e+00,  4.88242410e+00,  1.37135548e+00, -2.01279338e+00,\n",
       "       -3.40455753e+00, -2.57909602e+00, -7.58782821e-01,  5.25649064e-01,\n",
       "        5.80758059e-01, -1.11117214e-01, -5.27061570e-01, -8.07626862e-02,\n",
       "        9.00343330e-01,  1.51095805e+00,  1.06745925e+00, -2.65544632e-01,\n",
       "       -1.50946542e+00, -1.60837054e+00, -3.46926973e-01,  1.34423989e+00,\n",
       "        2.06035978e+00,  1.06403306e+00, -1.05597374e+00, -2.74218890e+00,\n",
       "       -2.58910393e+00])"
      ]
     },
     "execution_count": 37,
     "metadata": {},
     "output_type": "execute_result"
    }
   ],
   "source": [
    "filtered"
   ]
  },
  {
   "cell_type": "code",
   "execution_count": null,
   "metadata": {},
   "outputs": [],
   "source": []
  }
 ],
 "metadata": {
  "kernelspec": {
   "display_name": "Python 3",
   "language": "python",
   "name": "python3"
  },
  "language_info": {
   "codemirror_mode": {
    "name": "ipython",
    "version": 3
   },
   "file_extension": ".py",
   "mimetype": "text/x-python",
   "name": "python",
   "nbconvert_exporter": "python",
   "pygments_lexer": "ipython3",
   "version": "3.8.5"
  }
 },
 "nbformat": 4,
 "nbformat_minor": 4
}
